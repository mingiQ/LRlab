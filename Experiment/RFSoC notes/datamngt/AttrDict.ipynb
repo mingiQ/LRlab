{
 "cells": [
  {
   "cell_type": "code",
   "execution_count": 1,
   "metadata": {},
   "outputs": [],
   "source": [
    "class AttrDict(dict):\n",
    "    marker = object()\n",
    "    def __init__(self, value=None):\n",
    "        if value is None:\n",
    "            pass\n",
    "        elif isinstance(value, dict):                      # check if value is a dictionary \n",
    "            for key in value:\n",
    "                self.__setitem__(key, value[key])\n",
    "        else:\n",
    "            raise TypeError('expected dict')\n",
    "\n",
    "    def __setitem__(self, key, value):\n",
    "        if isinstance(value, dict) and not isinstance(value, AttrDict):\n",
    "            value = AttrDict(value)\n",
    "        super(AttrDict,self).__setitem__(key, value)           # equivalent to super().__setitem(key, value)\n",
    "\n",
    "    def __getitem__(self, key):\n",
    "        found = self.get(key, AttrDict.marker)\n",
    "        if found is AttrDict.marker:\n",
    "            found = AttrDict()\n",
    "            super(AttrDict,self).__setitem__(key, found)\n",
    "        return found\n",
    "\n",
    "    __setattr__ = __setitem__\n",
    "    __getattr__ = __getitem__"
   ]
  },
  {
   "cell_type": "code",
   "execution_count": 19,
   "metadata": {},
   "outputs": [],
   "source": [
    "expt_cfg={\"reps\":500, \"relax_delay\":10,\n",
    "          \"start\":400, \"stop\":6000, \"step\":10,\n",
    "          \"gain_step\" : 0.1\n",
    "         }"
   ]
  },
  {
   "cell_type": "code",
   "execution_count": 21,
   "metadata": {},
   "outputs": [
    {
     "data": {
      "text/plain": [
       "{'reps': 500,\n",
       " 'relax_delay': 10,\n",
       " 'start': 400,\n",
       " 'stop': 6000,\n",
       " 'step': 10,\n",
       " 'gain_step': 0.1,\n",
       " '_ipython_canary_method_should_not_exist_': {}}"
      ]
     },
     "execution_count": 21,
     "metadata": {},
     "output_type": "execute_result"
    }
   ],
   "source": [
    "x = AttrDict(expt_cfg)\n",
    "x"
   ]
  },
  {
   "cell_type": "code",
   "execution_count": 22,
   "metadata": {},
   "outputs": [],
   "source": [
    "x.__setitem__('step', 1)"
   ]
  },
  {
   "cell_type": "code",
   "execution_count": 23,
   "metadata": {},
   "outputs": [
    {
     "data": {
      "text/plain": [
       "{'reps': 500,\n",
       " 'relax_delay': 10,\n",
       " 'start': 400,\n",
       " 'stop': 6000,\n",
       " 'step': 1,\n",
       " 'gain_step': 0.1,\n",
       " '_ipython_canary_method_should_not_exist_': {}}"
      ]
     },
     "execution_count": 23,
     "metadata": {},
     "output_type": "execute_result"
    }
   ],
   "source": [
    "x"
   ]
  },
  {
   "cell_type": "code",
   "execution_count": 24,
   "metadata": {},
   "outputs": [
    {
     "data": {
      "text/plain": [
       "6000"
      ]
     },
     "execution_count": 24,
     "metadata": {},
     "output_type": "execute_result"
    }
   ],
   "source": [
    "x.__getitem__('stop')"
   ]
  },
  {
   "cell_type": "code",
   "execution_count": 27,
   "metadata": {},
   "outputs": [],
   "source": [
    "x.update({'gain_start': 100})"
   ]
  },
  {
   "cell_type": "code",
   "execution_count": 28,
   "metadata": {},
   "outputs": [
    {
     "data": {
      "text/plain": [
       "{'reps': 500,\n",
       " 'relax_delay': 10,\n",
       " 'start': 400,\n",
       " 'stop': 6000,\n",
       " 'step': 1,\n",
       " 'gain_step': 0.1,\n",
       " '_ipython_canary_method_should_not_exist_': {},\n",
       " 'gain_start': 100}"
      ]
     },
     "execution_count": 28,
     "metadata": {},
     "output_type": "execute_result"
    }
   ],
   "source": [
    "x"
   ]
  },
  {
   "cell_type": "code",
   "execution_count": 30,
   "metadata": {},
   "outputs": [
    {
     "data": {
      "text/plain": [
       "500"
      ]
     },
     "execution_count": 30,
     "metadata": {},
     "output_type": "execute_result"
    }
   ],
   "source": [
    "x.reps"
   ]
  },
  {
   "cell_type": "code",
   "execution_count": 34,
   "metadata": {},
   "outputs": [
    {
     "data": {
      "text/plain": [
       "{'_ipython_canary_method_should_not_exist_': {}}"
      ]
     },
     "execution_count": 34,
     "metadata": {},
     "output_type": "execute_result"
    }
   ],
   "source": [
    "x.hw.soc"
   ]
  },
  {
   "cell_type": "code",
   "execution_count": 35,
   "metadata": {},
   "outputs": [],
   "source": [
    "import yaml"
   ]
  },
  {
   "cell_type": "code",
   "execution_count": 36,
   "metadata": {},
   "outputs": [
    {
     "data": {
      "text/plain": [
       "<module 'yaml' from 'C:\\\\Users\\\\leogroup\\\\anaconda3\\\\lib\\\\site-packages\\\\yaml\\\\__init__.py'>"
      ]
     },
     "execution_count": 36,
     "metadata": {},
     "output_type": "execute_result"
    }
   ],
   "source": [
    "yaml"
   ]
  },
  {
   "cell_type": "code",
   "execution_count": 37,
   "metadata": {},
   "outputs": [
    {
     "data": {
      "text/plain": [
       "\u001b[1;31mType:\u001b[0m        module\n",
       "\u001b[1;31mString form:\u001b[0m <module 'yaml' from 'C:\\\\Users\\\\leogroup\\\\anaconda3\\\\lib\\\\site-packages\\\\yaml\\\\__init__.py'>\n",
       "\u001b[1;31mFile:\u001b[0m        c:\\users\\leogroup\\anaconda3\\lib\\site-packages\\yaml\\__init__.py\n",
       "\u001b[1;31mDocstring:\u001b[0m   <no docstring>\n"
      ]
     },
     "metadata": {},
     "output_type": "display_data"
    }
   ],
   "source": [
    "?yaml"
   ]
  },
  {
   "cell_type": "code",
   "execution_count": 41,
   "metadata": {},
   "outputs": [],
   "source": [
    "rfsoc_config_path = 'Z:/general/LRlabcode/LRlab/Experiment/RFSoC notes/rfsoc4x2_config.yml'"
   ]
  },
  {
   "cell_type": "code",
   "execution_count": 42,
   "metadata": {},
   "outputs": [
    {
     "data": {
      "text/plain": [
       "True"
      ]
     },
     "execution_count": 42,
     "metadata": {},
     "output_type": "execute_result"
    }
   ],
   "source": [
    "import os\n",
    "os.path.isfile(rfsoc_config_path)"
   ]
  },
  {
   "cell_type": "code",
   "execution_count": 43,
   "metadata": {},
   "outputs": [],
   "source": [
    "with open(rfsoc_config_path, 'r') as cfg_file:\n",
    "    yaml_cfg = yaml.safe_load(cfg_file)\n",
    "yaml_cfg = AttrDict(yaml_cfg)"
   ]
  },
  {
   "cell_type": "code",
   "execution_count": 44,
   "metadata": {},
   "outputs": [
    {
     "data": {
      "text/plain": [
       "{'device': {'qubit': {'T1': [50, 50, 50, 50],\n",
       "   'f_ge': [4200, 4200, 4200, 4200],\n",
       "   'f_ef': [4000, 4000, 4000, 4000],\n",
       "   'f_EgGf': [2000, 0, 2000, 2000],\n",
       "   'pulses': {'pi_ge': {'gain': [10000, 10000, 10000, 10000],\n",
       "     'sigma': [0.1, 0.1, 0.1, 0.1],\n",
       "     'type': 'gauss'},\n",
       "    'pi_ef': {'gain': [10000, 10000, 10000, 10000],\n",
       "     'sigma': [0.1, 0.1, 0.1, 0.1],\n",
       "     'type': 'gauss'},\n",
       "    'pi_EgGf': {'gain': [10000, 0, 10000, 10000],\n",
       "     'sigma': [0.1, 0, 0.1, 0.1],\n",
       "     'type': 'gauss'}}},\n",
       "  'readout': {'trig_offset': 200,\n",
       "   'frequency': [1586, 319, 693, 855],\n",
       "   'gain': 20000,\n",
       "   'phase': [0, 0, 0, 0],\n",
       "   'threshold': [0, 0, 0, 0],\n",
       "   'readout_length': [20, 20, 20, 20],\n",
       "   'relax_delay': [100, 100, 100, 100]}},\n",
       " 'hw': {'lo': {'readout': {'frequency': '6.1e9', 'power': 10}},\n",
       "  'soc': {'dacs': {'qubit': {'ch': [0, 1, 2, 3],\n",
       "     'type': ['full', 'full', 'full'],\n",
       "     'nyquist': [2, 2, 2, 2]},\n",
       "    'swap': {'ch': [4, 4, 4],\n",
       "     'type': ['full', 'full', 'full'],\n",
       "     'nyquist': [1, 1, 1]},\n",
       "    'readout': {'ch': 0, 'type': 'full', 'nyquist': 1}},\n",
       "   'adcs': {'readout': {'ch': 1}}}},\n",
       " 'aliases': {'readout_LO': 'SC_26C1', 'soc': 'Qick187'},\n",
       " '_ipython_canary_method_should_not_exist_': {}}"
      ]
     },
     "execution_count": 44,
     "metadata": {},
     "output_type": "execute_result"
    }
   ],
   "source": [
    "yaml_cfg"
   ]
  },
  {
   "cell_type": "code",
   "execution_count": 49,
   "metadata": {},
   "outputs": [
    {
     "data": {
      "text/plain": [
       "'SC_26C1'"
      ]
     },
     "execution_count": 49,
     "metadata": {},
     "output_type": "execute_result"
    }
   ],
   "source": [
    "yaml_cfg.aliases.readout_LO"
   ]
  },
  {
   "cell_type": "code",
   "execution_count": 50,
   "metadata": {},
   "outputs": [
    {
     "data": {
      "text/plain": [
       "'Qick187'"
      ]
     },
     "execution_count": 50,
     "metadata": {},
     "output_type": "execute_result"
    }
   ],
   "source": [
    "yaml_cfg['aliases']['soc']"
   ]
  },
  {
   "cell_type": "code",
   "execution_count": null,
   "metadata": {},
   "outputs": [],
   "source": [
    "soc = QickConfig(im[yaml_cfg['aliases']['soc']].get_cfg())\n",
    "print(soc) ## im[yaml_cfg['aliases']['soc']] === Pyro4.Proxy(self.ns.lookup(self.server_name))"
   ]
  }
 ],
 "metadata": {
  "kernelspec": {
   "display_name": "Python 3",
   "language": "python",
   "name": "python3"
  },
  "language_info": {
   "codemirror_mode": {
    "name": "ipython",
    "version": 3
   },
   "file_extension": ".py",
   "mimetype": "text/x-python",
   "name": "python",
   "nbconvert_exporter": "python",
   "pygments_lexer": "ipython3",
   "version": "3.8.5"
  }
 },
 "nbformat": 4,
 "nbformat_minor": 4
}
