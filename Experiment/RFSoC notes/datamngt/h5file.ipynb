{
 "cells": [
  {
   "cell_type": "code",
   "execution_count": null,
   "metadata": {},
   "outputs": [],
   "source": [
    "class h5File(h5py.File):\n",
    "    def __init__(self, *args, **kwargs):\n",
    "        h5py.File.__init__(self, *args, **kwargs)\n",
    "\n",
    "    def add(self, key, data):\n",
    "        data = np.array(data)\n",
    "        try:\n",
    "            self.create_dataset(key, shape=data.shape,\n",
    "                                maxshape=tuple([None] * len(data.shape)),\n",
    "                                dtype=str(data.dtype))\n",
    "        except RuntimeError:\n",
    "            del self[key]\n",
    "            self.create_dataset(key, shape=data.shape,\n",
    "                                maxshape=tuple([None] * len(data.shape)),\n",
    "                                dtype=str(data.dtype))\n",
    "        self[key][...] = data\n",
    "\n",
    "    def append(self, key, data, forceInit=False):\n",
    "        data = np.array(data)\n",
    "        try:\n",
    "            self.create_dataset(key, shape=tuple([1] + list(data.shape)),\n",
    "                                maxshape=tuple([None] * (len(data.shape) + 1)),\n",
    "                                dtype=str(data.dtype))\n",
    "        except RuntimeError:\n",
    "            if forceInit == True:\n",
    "                del self[key]\n",
    "                self.create_dataset(key, shape=tuple([1] + list(data.shape)),\n",
    "                                    maxshape=tuple([None] * (len(data.shape) + 1)),\n",
    "                                    dtype=str(data.dtype))\n",
    "            dataset = self[key]\n",
    "            Shape = list(dataset.shape)\n",
    "            Shape[0] = Shape[0] + 1\n",
    "            dataset.resize(Shape)\n",
    "\n",
    "        dataset = self[key]\n",
    "        try:\n",
    "            dataset[-1, :] = data\n",
    "        except TypeError:\n",
    "            dataset[-1] = data\n",
    "            # Usage require strictly same dimensionality for all data appended.\n",
    "            # currently I don't have it setup to return a good exception, but should"
   ]
  }
 ],
 "metadata": {
  "kernelspec": {
   "display_name": "Python 3",
   "language": "python",
   "name": "python3"
  },
  "language_info": {
   "codemirror_mode": {
    "name": "ipython",
    "version": 3
   },
   "file_extension": ".py",
   "mimetype": "text/x-python",
   "name": "python",
   "nbconvert_exporter": "python",
   "pygments_lexer": "ipython3",
   "version": "3.8.5"
  }
 },
 "nbformat": 4,
 "nbformat_minor": 4
}
