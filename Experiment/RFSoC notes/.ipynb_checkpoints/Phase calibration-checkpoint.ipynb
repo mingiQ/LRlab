{
 "cells": [
  {
   "cell_type": "markdown",
   "metadata": {},
   "source": [
    "# Phase Calibration of RFSoC 23/5/15"
   ]
  },
  {
   "cell_type": "markdown",
   "metadata": {},
   "source": [
    "Although the clocks in ADC and DAC are precise, they are not synchronized. \n",
    "Whether the ADC clock is advanced or retarded with respect to the DAC, it results in phase difference as a function of time\n",
    "\n",
    "$$ \\Delta \\phi = 2\\,\\pi \\,\\tau\\, f + \\phi_0  $$\n",
    "\n",
    "For phase coherent measurement, we need to figure out the ADC delay $\\tau$ and compensate the effect of ADC delay!\n",
    "\n"
   ]
  },
  {
   "cell_type": "code",
   "execution_count": 1,
   "metadata": {},
   "outputs": [
    {
     "name": "stdout",
     "output_type": "stream",
     "text": [
      "Could not import QickSoc: No module named 'pynq'\n"
     ]
    }
   ],
   "source": [
    "# In[0] Phase cal.\n",
    "import sys\n",
    "import numpy as np\n",
    "import matplotlib.pyplot as plt\n",
    "sys.path.append('Z:/Mingi Kim/python_codes/Experiment')\n",
    "sys.path.append('Z:/Mingi Kim/FPGA/qick/qick_lib')\n",
    "from qick import *\n",
    "import LAB_v0 \n",
    "import os\n",
    "import time"
   ]
  },
  {
   "cell_type": "markdown",
   "metadata": {},
   "source": [
    "import the RFSoC board"
   ]
  },
  {
   "cell_type": "code",
   "execution_count": 2,
   "metadata": {},
   "outputs": [
    {
     "name": "stdout",
     "output_type": "stream",
     "text": [
      "Pyro.NameServer PYRO:Pyro.NameServer@192.168.0.102:8888\n",
      "myqick PYRO:obj_dee286116b894fa0bf843023795fd247@192.168.0.102:35647\n",
      "\n",
      "QICK configuration:\n",
      "\n",
      "\tBoard: RFSoC4x2\n",
      "\n",
      "\tGlobal clocks (MHz): tProcessor 350.000, RF reference 491.520\n",
      "\n",
      "\t2 signal generator channels:\n",
      "\t0:\taxis_signal_gen_v6 - tProc output 0, switch ch 0, maxlen 65536\n",
      "\t\tDAC tile 0, ch 0, 32-bit DDS, fabric=614.400 MHz, fs=9830.400 MHz\n",
      "\t1:\taxis_signal_gen_v6 - tProc output 1, switch ch 1, maxlen 65536\n",
      "\t\tDAC tile 2, ch 0, 32-bit DDS, fabric=614.400 MHz, fs=9830.400 MHz\n",
      "\n",
      "\t2 readout channels:\n",
      "\t0:\tADC tile 0, ch 0, 32-bit DDS, fabric=491.520 MHz, fs=3932.160 MHz\n",
      "\t\tmaxlen 1024 (avg) 16384 (decimated), trigger bit 4, tProc input 0\n",
      "\t1:\tADC tile 0, ch 1, 32-bit DDS, fabric=491.520 MHz, fs=3932.160 MHz\n",
      "\t\tmaxlen 1024 (avg) 16384 (decimated), trigger bit 5, tProc input 1\n",
      "\n",
      "\t2 DACs:\n",
      "\t\tDAC tile 0, ch 0 is DAC_B\n",
      "\t\tDAC tile 2, ch 0 is DAC_A\n",
      "\n",
      "\t2 ADCs:\n",
      "\t\tADC tile 0, ch 0 is ADC_D\n",
      "\t\tADC tile 0, ch 1 is ADC_C\n",
      "\n",
      "\t4 digital output pins (tProc output 7):\n",
      "\t0:\tPMOD0_0\n",
      "\t1:\tPMOD0_1\n",
      "\t2:\tPMOD0_2\n",
      "\t3:\tPMOD0_3\n",
      "\n",
      "\ttProc: 1024 words program memory, 1024 words data memory\n",
      "\t\texternal start pin: None\n"
     ]
    }
   ],
   "source": [
    "xilinx = LAB_v0.RFSoC()"
   ]
  },
  {
   "cell_type": "markdown",
   "metadata": {},
   "source": [
    "initialize soc configurations and define several helper functions"
   ]
  },
  {
   "cell_type": "code",
   "execution_count": 5,
   "metadata": {},
   "outputs": [],
   "source": [
    "'''\n",
    "Phase calibration for gen ch=1, ro_ch = 0\n",
    "'''\n",
    "\n",
    "soccfg = xilinx.socconfig()[1]  # SoC configuration\n",
    "soc = xilinx.socconfig()[0]   # SoC \n",
    "\n",
    "out_chs = [1]  # gen ch=1., ro_ch=0\n",
    "\n",
    "def calculate_phase(d):\n",
    "    [xi,xq] = d\n",
    "    x = xi +1j*xq\n",
    "\n",
    "    # Average to improve calibration.\n",
    "    xavg = np.mean(x)\n",
    "\n",
    "    # Calculate calibration phase.\n",
    "    fi = np.remainder(np.angle(xavg,deg=True)+360,360)\n",
    "    return [fi, np.abs(xavg), np.std(x)]\n",
    "\n",
    "def print_results(res, f0):\n",
    "    print(\"freq_i = %f MHz, \"%(f0) +\n",
    "         \"phi_i = (%.2f, %.2f) deg, \" % tuple([res[i][0] for i in range(2)]) +\n",
    "         \"mag = (%.2f, %.2f), \" % tuple([res[i][1] for i in range(2)]) +\n",
    "         \"RMS = (%.2f, %.2f) ADU\" % tuple([res[i][2] for i in range(2)]))\n",
    "#     print(\"freq_i = %f MHz, phi_i = (%.2f, %.2f) deg, mag = (%.2f, %.2f), RMS = (%.2f, %.2f) ADU\" %(f0,*out_array,*A,*xrms))\n",
    "\n"
   ]
  },
  {
   "cell_type": "markdown",
   "metadata": {},
   "source": [
    "I'll use the `SingleFreqProg` in the `LAB_v0.py` code"
   ]
  },
  {
   "cell_type": "code",
   "execution_count": 73,
   "metadata": {},
   "outputs": [
    {
     "name": "stdout",
     "output_type": "stream",
     "text": [
      "freq_i = 5000.000002 MHz, phi_i = (358.76, 119.16) deg, mag = (35.04, 0.09), RMS = (4.14, 0.26) ADU\n",
      "freq_i = 5000.000702 MHz, phi_i = (348.02, 101.34) deg, mag = (35.04, 0.08), RMS = (3.45, 0.28) ADU\n",
      "freq_i = 5000.001402 MHz, phi_i = (337.34, 99.23) deg, mag = (35.10, 0.07), RMS = (4.14, 0.30) ADU\n",
      "freq_i = 5000.002098 MHz, phi_i = (326.55, 81.56) deg, mag = (35.12, 0.08), RMS = (2.95, 0.26) ADU\n",
      "freq_i = 5000.002798 MHz, phi_i = (315.84, 65.17) deg, mag = (35.18, 0.08), RMS = (5.42, 0.28) ADU\n",
      "freq_i = 5000.003499 MHz, phi_i = (305.22, 57.43) deg, mag = (35.17, 0.08), RMS = (7.80, 0.26) ADU\n",
      "freq_i = 5000.004199 MHz, phi_i = (294.31, 57.18) deg, mag = (35.24, 0.08), RMS = (2.10, 0.30) ADU\n",
      "freq_i = 5000.004900 MHz, phi_i = (283.67, 38.31) deg, mag = (35.27, 0.08), RMS = (2.94, 0.26) ADU\n",
      "freq_i = 5000.005600 MHz, phi_i = (272.99, 29.81) deg, mag = (35.18, 0.09), RMS = (4.14, 0.27) ADU\n",
      "freq_i = 5000.006300 MHz, phi_i = (262.34, 12.52) deg, mag = (35.17, 0.08), RMS = (8.99, 0.28) ADU\n",
      "freq_i = 5000.007001 MHz, phi_i = (251.51, 11.07) deg, mag = (35.18, 0.09), RMS = (2.56, 0.25) ADU\n",
      "freq_i = 5000.007701 MHz, phi_i = (240.90, 0.68) deg, mag = (35.17, 0.08), RMS = (0.98, 0.26) ADU\n",
      "freq_i = 5000.008401 MHz, phi_i = (230.15, 337.07) deg, mag = (35.17, 0.09), RMS = (1.94, 0.27) ADU\n",
      "freq_i = 5000.009102 MHz, phi_i = (219.43, 338.16) deg, mag = (35.17, 0.08), RMS = (5.82, 0.29) ADU\n",
      "freq_i = 5000.009802 MHz, phi_i = (208.60, 330.17) deg, mag = (35.17, 0.09), RMS = (1.98, 0.29) ADU\n",
      "freq_i = 5000.010498 MHz, phi_i = (197.90, 308.37) deg, mag = (35.21, 0.07), RMS = (1.86, 0.27) ADU\n",
      "freq_i = 5000.011198 MHz, phi_i = (187.46, 293.92) deg, mag = (35.18, 0.09), RMS = (4.17, 0.26) ADU\n",
      "freq_i = 5000.011899 MHz, phi_i = (176.51, 292.83) deg, mag = (35.19, 0.08), RMS = (5.34, 0.28) ADU\n",
      "freq_i = 5000.012599 MHz, phi_i = (165.84, 277.33) deg, mag = (35.18, 0.08), RMS = (2.76, 0.27) ADU\n",
      "freq_i = 5000.013300 MHz, phi_i = (155.17, 271.15) deg, mag = (35.18, 0.08), RMS = (2.76, 0.30) ADU\n",
      "freq_i = 5000.014000 MHz, phi_i = (144.34, 262.31) deg, mag = (35.21, 0.09), RMS = (5.64, 0.28) ADU\n",
      "freq_i = 5000.014700 MHz, phi_i = (133.45, 254.30) deg, mag = (35.21, 0.09), RMS = (1.31, 0.26) ADU\n",
      "freq_i = 5000.015401 MHz, phi_i = (122.74, 238.86) deg, mag = (35.21, 0.09), RMS = (2.98, 0.27) ADU\n",
      "freq_i = 5000.016101 MHz, phi_i = (112.11, 222.33) deg, mag = (35.19, 0.08), RMS = (3.72, 0.29) ADU\n",
      "freq_i = 5000.016801 MHz, phi_i = (101.38, 213.47) deg, mag = (35.20, 0.08), RMS = (5.45, 0.26) ADU\n",
      "freq_i = 5000.017502 MHz, phi_i = (90.68, 214.05) deg, mag = (35.19, 0.07), RMS = (3.46, 0.26) ADU\n",
      "freq_i = 5000.018202 MHz, phi_i = (79.92, 188.08) deg, mag = (35.20, 0.08), RMS = (1.71, 0.25) ADU\n",
      "freq_i = 5000.018898 MHz, phi_i = (69.34, 191.55) deg, mag = (35.20, 0.08), RMS = (4.46, 0.28) ADU\n",
      "freq_i = 5000.019598 MHz, phi_i = (58.53, 172.29) deg, mag = (35.20, 0.08), RMS = (2.86, 0.28) ADU\n",
      "freq_i = 5000.020299 MHz, phi_i = (47.99, 166.59) deg, mag = (35.19, 0.09), RMS = (7.10, 0.28) ADU\n",
      "freq_i = 5000.020999 MHz, phi_i = (37.17, 158.51) deg, mag = (35.19, 0.09), RMS = (0.64, 0.26) ADU\n",
      "freq_i = 5000.021700 MHz, phi_i = (26.45, 143.74) deg, mag = (35.19, 0.08), RMS = (0.90, 0.26) ADU\n",
      "freq_i = 5000.022400 MHz, phi_i = (15.59, 128.80) deg, mag = (35.20, 0.08), RMS = (3.33, 0.33) ADU\n",
      "freq_i = 5000.023100 MHz, phi_i = (5.08, 125.17) deg, mag = (35.18, 0.09), RMS = (1.69, 0.29) ADU\n",
      "freq_i = 5000.023801 MHz, phi_i = (354.30, 113.29) deg, mag = (35.17, 0.08), RMS = (4.32, 0.26) ADU\n",
      "freq_i = 5000.024501 MHz, phi_i = (343.47, 101.27) deg, mag = (35.17, 0.08), RMS = (4.68, 0.37) ADU\n",
      "freq_i = 5000.025201 MHz, phi_i = (332.77, 93.96) deg, mag = (35.16, 0.09), RMS = (2.97, 0.31) ADU\n",
      "freq_i = 5000.025902 MHz, phi_i = (322.11, 87.98) deg, mag = (35.18, 0.09), RMS = (1.62, 0.26) ADU\n",
      "freq_i = 5000.026602 MHz, phi_i = (311.34, 64.56) deg, mag = (35.18, 0.08), RMS = (2.40, 0.26) ADU\n",
      "freq_i = 5000.027298 MHz, phi_i = (300.70, 62.12) deg, mag = (35.16, 0.08), RMS = (2.03, 0.26) ADU\n",
      "freq_i = 5000.027998 MHz, phi_i = (289.87, 40.22) deg, mag = (35.19, 0.08), RMS = (3.87, 0.29) ADU\n",
      "freq_i = 5000.028699 MHz, phi_i = (279.20, 35.28) deg, mag = (35.20, 0.09), RMS = (5.14, 0.27) ADU\n",
      "freq_i = 5000.029399 MHz, phi_i = (268.53, 22.56) deg, mag = (35.17, 0.08), RMS = (4.44, 0.27) ADU\n",
      "freq_i = 5000.030099 MHz, phi_i = (257.68, 13.09) deg, mag = (35.16, 0.08), RMS = (3.12, 0.30) ADU\n",
      "freq_i = 5000.030800 MHz, phi_i = (247.11, 6.09) deg, mag = (35.16, 0.08), RMS = (3.00, 0.29) ADU\n",
      "freq_i = 5000.031500 MHz, phi_i = (236.42, 359.01) deg, mag = (35.16, 0.08), RMS = (5.55, 0.24) ADU\n",
      "freq_i = 5000.032201 MHz, phi_i = (225.64, 337.27) deg, mag = (35.17, 0.08), RMS = (1.16, 0.45) ADU\n",
      "freq_i = 5000.032901 MHz, phi_i = (214.79, 340.57) deg, mag = (35.17, 0.08), RMS = (6.20, 0.28) ADU\n",
      "freq_i = 5000.033601 MHz, phi_i = (204.19, 323.10) deg, mag = (35.19, 0.06), RMS = (3.85, 0.26) ADU\n",
      "freq_i = 5000.034302 MHz, phi_i = (193.40, 310.03) deg, mag = (35.18, 0.08), RMS = (3.50, 0.27) ADU\n",
      "freq_i = 5000.035002 MHz, phi_i = (182.87, 295.58) deg, mag = (35.19, 0.08), RMS = (7.22, 0.25) ADU\n",
      "freq_i = 5000.035698 MHz, phi_i = (172.07, 285.35) deg, mag = (35.20, 0.09), RMS = (1.31, 0.31) ADU\n",
      "freq_i = 5000.036398 MHz, phi_i = (161.39, 278.32) deg, mag = (35.17, 0.09), RMS = (1.87, 0.27) ADU\n",
      "freq_i = 5000.037099 MHz, phi_i = (150.73, 267.19) deg, mag = (35.15, 0.09), RMS = (4.93, 0.30) ADU\n",
      "freq_i = 5000.037799 MHz, phi_i = (139.86, 255.83) deg, mag = (35.17, 0.09), RMS = (6.97, 0.27) ADU\n",
      "freq_i = 5000.038499 MHz, phi_i = (129.24, 238.12) deg, mag = (35.16, 0.08), RMS = (9.48, 0.26) ADU\n",
      "freq_i = 5000.039200 MHz, phi_i = (118.60, 235.77) deg, mag = (35.18, 0.09), RMS = (0.54, 0.30) ADU\n",
      "freq_i = 5000.039900 MHz, phi_i = (107.76, 230.59) deg, mag = (35.18, 0.08), RMS = (8.33, 0.31) ADU\n",
      "freq_i = 5000.040601 MHz, phi_i = (97.12, 215.80) deg, mag = (35.16, 0.09), RMS = (3.35, 0.30) ADU\n",
      "freq_i = 5000.041301 MHz, phi_i = (86.34, 196.31) deg, mag = (35.19, 0.09), RMS = (4.33, 0.31) ADU\n",
      "freq_i = 5000.042001 MHz, phi_i = (75.60, 196.20) deg, mag = (35.19, 0.09), RMS = (2.77, 0.34) ADU\n",
      "freq_i = 5000.042702 MHz, phi_i = (64.86, 175.30) deg, mag = (35.19, 0.10), RMS = (1.24, 0.29) ADU\n",
      "freq_i = 5000.043402 MHz, phi_i = (54.20, 165.38) deg, mag = (35.19, 0.08), RMS = (3.18, 0.25) ADU\n",
      "freq_i = 5000.044098 MHz, phi_i = (43.72, 166.11) deg, mag = (35.17, 0.08), RMS = (2.45, 0.28) ADU\n",
      "freq_i = 5000.044798 MHz, phi_i = (32.78, 145.97) deg, mag = (35.18, 0.08), RMS = (3.19, 0.28) ADU\n",
      "freq_i = 5000.045499 MHz, phi_i = (22.04, 135.40) deg, mag = (35.19, 0.08), RMS = (8.42, 0.28) ADU\n",
      "freq_i = 5000.046199 MHz, phi_i = (11.25, 121.49) deg, mag = (35.19, 0.08), RMS = (1.53, 0.26) ADU\n",
      "freq_i = 5000.046899 MHz, phi_i = (0.51, 117.46) deg, mag = (35.18, 0.09), RMS = (2.54, 0.25) ADU\n",
      "freq_i = 5000.047600 MHz, phi_i = (349.88, 101.09) deg, mag = (35.17, 0.08), RMS = (1.61, 0.29) ADU\n",
      "freq_i = 5000.048300 MHz, phi_i = (339.19, 101.55) deg, mag = (35.18, 0.08), RMS = (1.91, 0.28) ADU\n",
      "freq_i = 5000.049001 MHz, phi_i = (328.53, 79.43) deg, mag = (35.16, 0.08), RMS = (2.51, 0.28) ADU\n",
      "freq_i = 5000.049701 MHz, phi_i = (317.69, 78.61) deg, mag = (35.16, 0.07), RMS = (4.95, 0.28) ADU\n",
      "freq_i = 5000.050401 MHz, phi_i = (307.17, 50.31) deg, mag = (35.15, 0.10), RMS = (4.88, 0.27) ADU\n",
      "freq_i = 5000.051102 MHz, phi_i = (296.35, 57.45) deg, mag = (35.14, 0.08), RMS = (3.53, 0.26) ADU\n",
      "freq_i = 5000.051802 MHz, phi_i = (285.71, 33.05) deg, mag = (35.15, 0.08), RMS = (0.66, 0.26) ADU\n",
      "freq_i = 5000.052498 MHz, phi_i = (274.95, 31.36) deg, mag = (35.16, 0.09), RMS = (1.89, 0.28) ADU\n",
      "freq_i = 5000.053198 MHz, phi_i = (264.15, 23.02) deg, mag = (35.15, 0.08), RMS = (3.84, 0.27) ADU\n",
      "freq_i = 5000.053899 MHz, phi_i = (253.49, 6.31) deg, mag = (35.15, 0.08), RMS = (2.88, 0.27) ADU\n",
      "freq_i = 5000.054599 MHz, phi_i = (242.85, 357.79) deg, mag = (35.13, 0.09), RMS = (3.89, 0.27) ADU\n",
      "freq_i = 5000.055299 MHz, phi_i = (232.09, 348.96) deg, mag = (35.16, 0.07), RMS = (2.93, 0.27) ADU\n"
     ]
    }
   ],
   "source": [
    "\n",
    "config={\"out_ch\":out_chs,\n",
    "        \"reps\":1, # --Fixed\n",
    "        \"res_phase\":soccfg.deg2reg(0), # --Fixed\n",
    "        \n",
    "        \"length\":10, # [Clock ticks]\n",
    "        # Try varying length from 10-100 clock ticks\n",
    "        \n",
    "        \"readout_length\":1000, # [Clock ticks]\n",
    "        # Try varying readout_length from 50-1000 clock ticks\n",
    "\n",
    "        \"pulse_gain\":32000, # [DAC units]\n",
    "        # Try varying pulse_gain from 500 to 30000 DAC units\n",
    "\n",
    "        \"pulse_freq\": 1400, # [MHz]\n",
    "        # In this program the signal is up and downconverted digitally so you won't see any frequency\n",
    "        # components in the I/Q traces below. But since the signal gain depends on frequency, \n",
    "        # if you lower pulse_freq you will see an increased gain.\n",
    "\n",
    "        \"adc_trig_offset\": 1000, # [Clock ticks]\n",
    "        # Try varying adc_trig_offset from 100 to 220 clock ticks\n",
    "\n",
    "        \"soft_avgs\":1\n",
    "        # Try varying soft_avgs from 1 to 200 averages\n",
    "\n",
    "       }\n",
    "\n",
    "res=[]\n",
    "config['reps'] = 1\n",
    "\n",
    "\n",
    "# change this from 1 to 50\n",
    "config['soft_avgs'] = 50\n",
    "\n",
    "\n",
    "f0_start=5000\n",
    "f0_step=0.0007\n",
    "expts=80\n",
    "\n",
    "# =============================================================================\n",
    "#f0_start=100\n",
    "#f0_step=0.000250\n",
    "#expts=40\n",
    "# =============================================================================\n",
    "\n",
    "f0_v = np.arange(0,expts)*f0_step+f0_start\n",
    "\n",
    "f0_v = soccfg.adcfreq(f0_v, gen_ch=1, ro_ch=0)\n",
    "\n",
    "# for f0 in [101]:\n",
    "for f0 in f0_v:\n",
    "    config['pulse_freq'] = f0\n",
    "    prog =LAB_v0.SingleFreqProgram(soccfg, config)\n",
    "#     print(prog)\n",
    "    data = prog.acquire_decimated(soc, load_pulses=True, progress=False, debug=False)\n",
    "#     print(data)\n",
    "    res.append([calculate_phase(d) for d in data])\n",
    "    print_results(res[-1], f0)\n",
    "fi_v=np.array([[a[0] for a in r] for r in res]).T\n",
    "\n",
    "soc.reset_gens()"
   ]
  },
  {
   "cell_type": "code",
   "execution_count": 74,
   "metadata": {},
   "outputs": [
    {
     "data": {
      "text/plain": [
       "Text(0.5, 0, '$f$ (MHz)')"
      ]
     },
     "execution_count": 74,
     "metadata": {},
     "output_type": "execute_result"
    },
    {
     "data": {
      "image/png": "[encoded data removed]",
      "text/plain": [
       "<Figure size 432x288 with 1 Axes>"
      ]
     },
     "metadata": {
      "needs_background": "light"
     },
     "output_type": "display_data"
    }
   ],
   "source": [
    "'''\n",
    "Plot result\n",
    "'''\n",
    "\n",
    "plt.plot(f0_v, fi_v[0])\n",
    "plt.plot(f0_v, fi_v[0], marker='.', linestyle=\"None\", color='Red')\n",
    "plt.title(r\"$\\phi$ vs $f$ : ADC_{}\".format(0))\n",
    "plt.ylabel(r\"$\\phi$ (degrees)\")\n",
    "plt.xlabel(r\"$f$ (MHz)\")\n"
   ]
  },
  {
   "cell_type": "markdown",
   "metadata": {},
   "source": [
    "Now we have frequency and corresponding data\n",
    "which needed to be fit with $ (2\\pi\\,\\tau\\,f + \\phi_0) + \\phi_{signal} $\n",
    "\n",
    "Let's define useful functions for analyzing phase and model function first"
   ]
  },
  {
   "cell_type": "code",
   "execution_count": 75,
   "metadata": {},
   "outputs": [],
   "source": [
    "\n",
    "def phase_residuals(data,prediction):\n",
    "    '''\n",
    "    (data - pred + pi) mod 2pi ; returns the difference between data and pred\n",
    "    '''\n",
    "    r = np.remainder(data-prediction+180,360)-180\n",
    "    return r\n",
    "    \n",
    "def phase_model(x, f0):\n",
    "    '''\n",
    "    x = [x0, x1] , \n",
    "    x0 : phase offset, x1 : ADC delay\n",
    "    (x0 - 2pi*x1*f0) mod 2pi\n",
    "    '''\n",
    "    return np.remainder(x[0] - 360*x[1]*(f0), 360)\n",
    "\n",
    "def phase_func(x, arg, freq):\n",
    "    '''\n",
    "    difference b/w data and phase drag due to the ADC delay = real signal\n",
    "    '''\n",
    "    resid = phase_residuals(arg, phase_model(x, freq))\n",
    "    return resid"
   ]
  },
  {
   "cell_type": "markdown",
   "metadata": {},
   "source": [
    "For fitting, we will estimate the slope (corresponds to ADC delay) and the intercept (offset phase)"
   ]
  },
  {
   "cell_type": "code",
   "execution_count": 76,
   "metadata": {},
   "outputs": [
    {
     "name": "stdout",
     "output_type": "stream",
     "text": [
      "[   42.59789645    42.38626505    43.03690118    42.50519613\n",
      "    42.12473507    43.27283083    42.16474623    42.38686933\n",
      "    42.23568606    42.96351184    42.04536133    42.65382709\n",
      "    42.51513961    42.97352956    42.70257368    41.3840832\n",
      "    43.43427604    42.34422025    42.28621963    42.98979028\n",
      "    43.16437569    42.47876848    42.1643729     42.54276491\n",
      "    42.46108409    42.64820694    42.24575614    42.87648565\n",
      "    41.82383124    42.90458524    42.51567346    43.07462881\n",
      "    41.66166937 -1385.02648636    42.95586425    42.44736412\n",
      "    42.24366042    42.72681868    42.49973328    42.93933559\n",
      "    42.31716354    42.33231999    43.0137707     41.92708746\n",
      "    42.38682151    42.75379247    43.03745336    42.06082392\n",
      "    42.77948747    41.78035012    43.08896544    42.35709924\n",
      "    42.3022356     43.11522991    42.08943911    42.19531729\n",
      "    43.02183881    42.18686919    42.75331055    42.58757794\n",
      "    42.60790247    42.29077438    41.80700853    43.41231574\n",
      "    42.57420703    42.80969848    42.5847236  -1385.60857345\n",
      "    42.38896404    42.25673262    43.00199293    41.71517145\n",
      "    42.90841377    42.20726241    42.98109465    42.82450631\n",
      "    42.26126557    42.20405179    42.69145578]\n",
      "initial estimate: 351.44 deg shift, 42.51 us delay\n"
     ]
    }
   ],
   "source": [
    "from scipy.optimize import least_squares\n",
    "#fig, axs = plt.subplots(2,1)\n",
    "\n",
    "ch = 0\n",
    "\n",
    "slopes = -1*(fi_v[ch,1:]-fi_v[ch,:-1])/(360*(f0_v[1:]-f0_v[:-1]))\n",
    "print(slopes)\n",
    "\n",
    "\n",
    "x0 = np.zeros(2)\n",
    "x0[1] = np.median(slopes)\n",
    "x0[0] = np.remainder(np.median(phase_residuals(fi_v[ch],phase_model(x0, f0_v))),360)\n",
    "print(\"initial estimate: %.2f deg shift, %.2f us delay\"% tuple(x0))"
   ]
  },
  {
   "cell_type": "markdown",
   "metadata": {},
   "source": [
    "And then using `least_squares` method, will fit the linear function"
   ]
  },
  {
   "cell_type": "code",
   "execution_count": 77,
   "metadata": {},
   "outputs": [
    {
     "data": {
      "text/plain": [
       "array([351.43571664,  42.50519613])"
      ]
     },
     "execution_count": 77,
     "metadata": {},
     "output_type": "execute_result"
    }
   ],
   "source": [
    "# initial guess\n",
    "x0"
   ]
  },
  {
   "cell_type": "markdown",
   "metadata": {},
   "source": [
    "`least_squares(model , initial guess, maxfev, args=(ydata, xdata))`\n",
    "\n",
    "by fitting, we will determine two parameters : $\\tau$ and $\\phi_0$"
   ]
  },
  {
   "cell_type": "code",
   "execution_count": 79,
   "metadata": {},
   "outputs": [
    {
     "name": "stdout",
     "output_type": "stream",
     "text": [
      "3\n",
      "\n",
      "after minimization: 195.59 deg shift, 42.53 us delay\n"
     ]
    }
   ],
   "source": [
    "fit = least_squares(phase_func, x0, max_nfev=8000, args=(fi_v[ch], f0_v))\n",
    "#     fit = least_squares(phase_func, x0, args=(fi_v[ch]), method='lm', x_scale='jac')\n",
    "#     fit = least_squares(phase_func, x0, args=(fi_v[ch]), method='lm', x_scale=(1,1e-5))\n",
    "fit.x[0] = np.remainder(fit.x[0], 360)\n",
    "print(fit.status)\n",
    "print(\"\\nafter minimization: %.2f deg shift, %.2f us delay\"% tuple(fit.x))"
   ]
  },
  {
   "cell_type": "code",
   "execution_count": 80,
   "metadata": {},
   "outputs": [
    {
     "name": "stdout",
     "output_type": "stream",
     "text": [
      " active_mask: array([0., 0.])\n",
      "        cost: 0.2884805301479766\n",
      "         fun: array([ 9.30665571e-02,  7.59749865e-02,  1.12243357e-01, -1.47020436e-02,\n",
      "       -8.42050534e-03,  9.37890360e-02, -9.34779455e-02, -1.35665379e-03,\n",
      "        3.47593594e-02,  1.08994151e-01, -2.82319633e-04,  1.21940231e-01,\n",
      "        9.07465181e-02,  9.45209460e-02, -1.72813428e-02, -6.04816227e-02,\n",
      "        2.28473087e-01,  4.99920163e-04,  4.73693082e-02,  1.08862756e-01,\n",
      "       -7.03944604e-03, -1.66960974e-01, -1.54016068e-01, -6.18006463e-02,\n",
      "       -6.49915580e-02, -4.75877769e-02, -7.73644457e-02, -6.13729947e-03,\n",
      "       -9.34713007e-02,  8.46070120e-02, -9.81191506e-03, -6.17209291e-03,\n",
      "       -1.43465178e-01,  7.55000166e-02,  1.42391328e-02, -9.31090899e-02,\n",
      "       -7.22460063e-02, -2.18544051e-05, -4.96193915e-02, -4.20105285e-02,\n",
      "       -1.45191278e-01, -9.14999105e-02, -4.16300492e-02, -1.63578585e-01,\n",
      "       -1.15349059e-02,  2.45931634e-02, -3.18054414e-02, -1.59725235e-01,\n",
      "       -4.14013791e-02, -1.04278625e-01,  8.47628522e-02, -5.52240348e-02,\n",
      "       -1.16019064e-02,  4.58533209e-02, -1.01676759e-01,  9.43218762e-03,\n",
      "        9.38454102e-02, -3.01373893e-02,  5.64058892e-02,  1.28791637e-04,\n",
      "       -1.43611105e-02, -3.39755615e-02,  2.63694675e-02,  2.07497749e-01,\n",
      "       -1.49384323e-02, -2.60570415e-02, -9.65515792e-02, -1.10321799e-01,\n",
      "       -2.48174380e-02,  1.07704056e-02,  7.96985976e-02, -3.92803361e-02,\n",
      "        1.66195046e-01,  7.08108102e-02,  1.52212218e-01,  3.92457000e-02,\n",
      "       -3.49824277e-02,  3.28028425e-02,  1.15013779e-01,  7.43325098e-02])\n",
      "        grad: array([ 8.42120419e-04, -1.51580047e+03])\n",
      "         jac: array([[-1.00000898e+00,  1.80000000e+06],\n",
      "       [-1.00000898e+00,  1.80000026e+06],\n",
      "       [-1.00000898e+00,  1.80000050e+06],\n",
      "       [-1.00000898e+00,  1.80000075e+06],\n",
      "       [-1.00000898e+00,  1.80000099e+06],\n",
      "       [-1.00000898e+00,  1.80000127e+06],\n",
      "       [-1.00000898e+00,  1.80000151e+06],\n",
      "       [-1.00000898e+00,  1.80000177e+06],\n",
      "       [-1.00000898e+00,  1.80000200e+06],\n",
      "       [-1.00000898e+00,  1.80000226e+06],\n",
      "       [-1.00000898e+00,  1.80000252e+06],\n",
      "       [-1.00000898e+00,  1.80000278e+06],\n",
      "       [-1.00000898e+00,  1.80000303e+06],\n",
      "       [-1.00000898e+00,  1.80000327e+06],\n",
      "       [-1.00000898e+00,  1.80000353e+06],\n",
      "       [-1.00000898e+00,  1.80000376e+06],\n",
      "       [-1.00000898e+00,  1.80000405e+06],\n",
      "       [-1.00000898e+00,  1.80000428e+06],\n",
      "       [-1.00000898e+00,  1.80000454e+06],\n",
      "       [-1.00000898e+00,  1.80000477e+06],\n",
      "       [-1.00000898e+00,  1.80000503e+06],\n",
      "       [-1.00000898e+00,  1.80000529e+06],\n",
      "       [-1.00000898e+00,  1.80000555e+06],\n",
      "       [-1.00000898e+00,  1.80000579e+06],\n",
      "       [-1.00000898e+00,  1.80000604e+06],\n",
      "       [-1.00000898e+00,  1.80000628e+06],\n",
      "       [-1.00000898e+00,  1.80000654e+06],\n",
      "       [-1.00000898e+00,  1.80000680e+06],\n",
      "       [-1.00000898e+00,  1.80000706e+06],\n",
      "       [-1.00000898e+00,  1.80000729e+06],\n",
      "       [-1.00000898e+00,  1.80000755e+06],\n",
      "       [-1.00000898e+00,  1.80000781e+06],\n",
      "       [-1.00000898e+00,  1.80000807e+06],\n",
      "       [-1.00000898e+00,  1.80000833e+06],\n",
      "       [-1.00000898e+00,  1.80000856e+06],\n",
      "       [-1.00000898e+00,  1.80000882e+06],\n",
      "       [-1.00000898e+00,  1.80000905e+06],\n",
      "       [-1.00000898e+00,  1.80000934e+06],\n",
      "       [-1.00000898e+00,  1.80000957e+06],\n",
      "       [-1.00000898e+00,  1.80000983e+06],\n",
      "       [-1.00000898e+00,  1.80001007e+06],\n",
      "       [-1.00000898e+00,  1.80001032e+06],\n",
      "       [-1.00000898e+00,  1.80001058e+06],\n",
      "       [-1.00000898e+00,  1.80001084e+06],\n",
      "       [-1.00000898e+00,  1.80001108e+06],\n",
      "       [-1.00000898e+00,  1.80001133e+06],\n",
      "       [-1.00000898e+00,  1.80001157e+06],\n",
      "       [-1.00000898e+00,  1.80001183e+06],\n",
      "       [-1.00000898e+00,  1.80001211e+06],\n",
      "       [-1.00000898e+00,  1.80001235e+06],\n",
      "       [-1.00000898e+00,  1.80001260e+06],\n",
      "       [-1.00000898e+00,  1.80001284e+06],\n",
      "       [-1.00000898e+00,  1.80001310e+06],\n",
      "       [-1.00000898e+00,  1.80001336e+06],\n",
      "       [-1.00000898e+00,  1.80001362e+06],\n",
      "       [-1.00000898e+00,  1.80001385e+06],\n",
      "       [-1.00000898e+00,  1.80001411e+06],\n",
      "       [-1.00000898e+00,  1.80001434e+06],\n",
      "       [-1.00000898e+00,  1.80001463e+06],\n",
      "       [-1.00000898e+00,  1.80001486e+06],\n",
      "       [-1.00000898e+00,  1.80001512e+06],\n",
      "       [-1.00000898e+00,  1.80001536e+06],\n",
      "       [-1.00000898e+00,  1.80001561e+06],\n",
      "       [-1.00000898e+00,  1.80001587e+06],\n",
      "       [-1.00000898e+00,  1.80001613e+06],\n",
      "       [-1.00000898e+00,  1.80001637e+06],\n",
      "       [-1.00000898e+00,  1.80001663e+06],\n",
      "       [-1.00000898e+00,  1.80001688e+06],\n",
      "       [-1.00000898e+00,  1.80001712e+06],\n",
      "       [-1.00000898e+00,  1.80001740e+06],\n",
      "       [-1.00000898e+00,  1.80001764e+06],\n",
      "       [-1.00000898e+00,  1.80001789e+06],\n",
      "       [-1.00000898e+00,  1.80001813e+06],\n",
      "       [-1.00000898e+00,  1.80001839e+06],\n",
      "       [-1.00000898e+00,  1.80001865e+06],\n",
      "       [-1.00000898e+00,  1.80001891e+06],\n",
      "       [-1.00000898e+00,  1.80001914e+06],\n",
      "       [-1.00000898e+00,  1.80001940e+06],\n",
      "       [-1.00000898e+00,  1.80001963e+06],\n",
      "       [-1.00000898e+00,  1.80001989e+06]])\n",
      "     message: '`xtol` termination condition is satisfied.'\n",
      "        nfev: 1076\n",
      "        njev: 863\n",
      "  optimality: 1515.8004734143615\n",
      "      status: 3\n",
      "     success: True\n",
      "           x: array([195.59442516,  42.53010939])\n"
     ]
    }
   ],
   "source": [
    "print(fit)"
   ]
  },
  {
   "cell_type": "code",
   "execution_count": 102,
   "metadata": {},
   "outputs": [
    {
     "data": {
      "text/plain": [
       "array([195.59442516,  42.53010939])"
      ]
     },
     "execution_count": 102,
     "metadata": {},
     "output_type": "execute_result"
    }
   ],
   "source": [
    "fit.x"
   ]
  },
  {
   "cell_type": "code",
   "execution_count": 101,
   "metadata": {},
   "outputs": [
    {
     "data": {
      "text/plain": [
       "[<matplotlib.lines.Line2D at 0x226e7f53c70>]"
      ]
     },
     "execution_count": 101,
     "metadata": {},
     "output_type": "execute_result"
    },
    {
     "data": {
      "image/png": "[encoded data removed]",
      "text/plain": [
       "<Figure size 432x288 with 2 Axes>"
      ]
     },
     "metadata": {
      "needs_background": "light"
     },
     "output_type": "display_data"
    }
   ],
   "source": [
    "fig, axs = plt.subplots(2,1)\n",
    "\n",
    "plot = axs[0]\n",
    "plot.set_title(r\"$\\phi$ vs $f$\")\n",
    "plot.set_ylabel(r\"$\\phi$ (degrees)\")\n",
    "plot.set_xlabel(r\"$f$ (MHz)\")\n",
    "plot.plot(f0_v,fi_v[ch], marker='.', linestyle=\"None\",color=\"Red\")\n",
    "plot.plot(f0_v, phase_model(fit.x, f0_v))\n",
    "\n",
    "plot = axs[1]\n",
    "plot.set_ylabel(r\"residual (degrees)\")\n",
    "plot.set_xlabel(r\"$f$ (MHz)\")\n",
    "\n",
    "plot.plot(f0_v, phase_func(fit.x, fi_v[ch], f0_v), marker='.', linestyle=\"None\",color=\"Red\")\n",
    "#     plot.plot(f0_v, phase_func(x0, (fi_v[ch])), marker='.', linestyle=\"None\",color=\"Red\")\n",
    "\n"
   ]
  },
  {
   "cell_type": "markdown",
   "metadata": {},
   "source": [
    "### initial guess instead of `least_square` fit"
   ]
  },
  {
   "cell_type": "code",
   "execution_count": 98,
   "metadata": {},
   "outputs": [
    {
     "data": {
      "text/plain": [
       "[<matplotlib.lines.Line2D at 0x226e7e68250>]"
      ]
     },
     "execution_count": 98,
     "metadata": {},
     "output_type": "execute_result"
    },
    {
     "data": {
      "image/png": "[encoded data removed]",
      "text/plain": [
       "<Figure size 432x288 with 2 Axes>"
      ]
     },
     "metadata": {
      "needs_background": "light"
     },
     "output_type": "display_data"
    }
   ],
   "source": [
    "fig, axs = plt.subplots(2,1)\n",
    "\n",
    "plot = axs[0]\n",
    "plot.set_title(r\"$\\phi$ vs $f$\")\n",
    "plot.set_ylabel(r\"$\\phi$ (degrees)\")\n",
    "plot.set_xlabel(r\"$f$ (MHz)\")\n",
    "plot.plot(f0_v,fi_v[ch], marker='.', linestyle=\"None\",color=\"Red\")\n",
    "plot.plot(f0_v, phase_model(x0, f0_v))\n",
    "\n",
    "plot = axs[1]\n",
    "plot.set_ylabel(r\"residual (degrees)\")\n",
    "plot.set_xlabel(r\"$f$ (MHz)\")\n",
    "\n",
    "plot.plot(f0_v, phase_func(x0, fi_v[ch], f0_v), marker='.', linestyle=\"None\",color=\"Red\")\n",
    "#     plot.plot(f0_v, phase_func(x0, (fi_v[ch])), marker='.', linestyle=\"None\",color=\"Red\")\n",
    "\n"
   ]
  },
  {
   "cell_type": "markdown",
   "metadata": {},
   "source": [
    "Based on our fit result, let's do the measurement and get phase-coherent result"
   ]
  },
  {
   "cell_type": "markdown",
   "metadata": {},
   "source": [
    "# frequency sweep test"
   ]
  },
  {
   "cell_type": "code",
   "execution_count": 195,
   "metadata": {},
   "outputs": [],
   "source": [
    "config['reps'] = 1\n",
    "\n",
    "\n",
    "# change this from 1 to 50\n",
    "config['soft_avgs'] = 50\n",
    "\n",
    "\n",
    "f_start=3000\n",
    "f_step=50\n",
    "expts=100\n",
    "\n",
    "# =============================================================================\n",
    "#f0_start=100\n",
    "#f0_step=0.000250\n",
    "#expts=40\n",
    "# =============================================================================\n",
    "\n",
    "f_v = np.arange(0,expts)*f_step+f_start\n",
    "\n",
    "f_v = soccfg.adcfreq(f_v, gen_ch=1, ro_ch=1)"
   ]
  },
  {
   "cell_type": "code",
   "execution_count": 196,
   "metadata": {},
   "outputs": [
    {
     "name": "stdout",
     "output_type": "stream",
     "text": [
      "freq_i = 3000.000000 MHz, phi_i = (7.00, 85.49) deg, mag = (75.54, 0.06), RMS = (0.45, 0.07) ADU\n",
      "freq_i = 3050.000002 MHz, phi_i = (197.33, 148.69) deg, mag = (75.35, 0.04), RMS = (0.46, 0.07) ADU\n",
      "freq_i = 3099.999998 MHz, phi_i = (28.28, 148.66) deg, mag = (75.12, 0.07), RMS = (0.47, 0.07) ADU\n",
      "freq_i = 3150.000000 MHz, phi_i = (217.94, 224.27) deg, mag = (74.45, 0.07), RMS = (0.43, 0.07) ADU\n",
      "freq_i = 3200.000002 MHz, phi_i = (47.17, 236.85) deg, mag = (73.61, 0.04), RMS = (0.51, 0.07) ADU\n",
      "freq_i = 3249.999998 MHz, phi_i = (236.52, 280.99) deg, mag = (72.38, 0.10), RMS = (0.50, 0.07) ADU\n",
      "freq_i = 3300.000000 MHz, phi_i = (66.06, 357.08) deg, mag = (70.89, 0.05), RMS = (0.45, 0.07) ADU\n",
      "freq_i = 3350.000002 MHz, phi_i = (255.50, 336.35) deg, mag = (69.30, 0.11), RMS = (0.43, 0.07) ADU\n",
      "freq_i = 3399.999998 MHz, phi_i = (84.82, 62.27) deg, mag = (67.72, 0.10), RMS = (0.47, 0.07) ADU\n",
      "freq_i = 3450.000000 MHz, phi_i = (274.31, 39.30) deg, mag = (66.22, 0.09), RMS = (0.48, 0.07) ADU\n",
      "freq_i = 3500.000002 MHz, phi_i = (103.66, 121.67) deg, mag = (64.99, 0.15), RMS = (0.44, 0.07) ADU\n",
      "freq_i = 3549.999998 MHz, phi_i = (292.97, 118.41) deg, mag = (63.65, 0.07), RMS = (0.43, 0.07) ADU\n",
      "freq_i = 3600.000000 MHz, phi_i = (122.18, 183.73) deg, mag = (62.47, 0.23), RMS = (0.45, 0.07) ADU\n",
      "freq_i = 3650.000002 MHz, phi_i = (311.23, 255.87) deg, mag = (61.30, 0.16), RMS = (0.47, 0.07) ADU\n",
      "freq_i = 3699.999998 MHz, phi_i = (140.19, 274.74) deg, mag = (60.25, 0.21), RMS = (0.45, 0.07) ADU\n",
      "freq_i = 3750.000000 MHz, phi_i = (329.00, 13.82) deg, mag = (59.41, 0.20), RMS = (0.45, 0.07) ADU\n",
      "freq_i = 3800.000002 MHz, phi_i = (157.74, 350.11) deg, mag = (58.67, 0.05), RMS = (0.48, 0.07) ADU\n",
      "freq_i = 3849.999998 MHz, phi_i = (346.70, 78.90) deg, mag = (57.79, 0.14), RMS = (0.44, 0.08) ADU\n",
      "freq_i = 3900.000000 MHz, phi_i = (175.45, 183.91) deg, mag = (57.02, 0.04), RMS = (0.47, 0.10) ADU\n",
      "freq_i = 3950.000002 MHz, phi_i = (4.28, 113.88) deg, mag = (55.84, 0.08), RMS = (0.52, 0.12) ADU\n",
      "freq_i = 3999.999998 MHz, phi_i = (192.61, 246.29) deg, mag = (54.47, 0.08), RMS = (0.47, 0.08) ADU\n",
      "freq_i = 4050.000000 MHz, phi_i = (21.13, 123.23) deg, mag = (53.23, 0.05), RMS = (0.47, 0.07) ADU\n",
      "freq_i = 4100.000002 MHz, phi_i = (209.30, 286.94) deg, mag = (51.46, 0.08), RMS = (0.45, 0.07) ADU\n",
      "freq_i = 4149.999998 MHz, phi_i = (35.54, 125.61) deg, mag = (49.64, 0.04), RMS = (0.46, 0.07) ADU\n",
      "freq_i = 4200.000000 MHz, phi_i = (222.20, 317.02) deg, mag = (48.18, 0.07), RMS = (0.45, 0.07) ADU\n",
      "freq_i = 4250.000002 MHz, phi_i = (51.39, 143.04) deg, mag = (46.96, 0.05), RMS = (0.45, 0.07) ADU\n",
      "freq_i = 4299.999998 MHz, phi_i = (240.44, 341.93) deg, mag = (45.51, 0.07), RMS = (0.43, 0.07) ADU\n",
      "freq_i = 4350.000000 MHz, phi_i = (69.82, 151.26) deg, mag = (44.20, 0.05), RMS = (0.41, 0.07) ADU\n",
      "freq_i = 4400.000002 MHz, phi_i = (259.56, 1.41) deg, mag = (43.01, 0.05), RMS = (0.40, 0.07) ADU\n",
      "freq_i = 4449.999998 MHz, phi_i = (89.14, 179.35) deg, mag = (41.57, 0.05), RMS = (0.43, 0.07) ADU\n",
      "freq_i = 4500.000000 MHz, phi_i = (278.44, 9.74) deg, mag = (40.34, 0.05), RMS = (0.41, 0.07) ADU\n",
      "freq_i = 4550.000002 MHz, phi_i = (107.04, 197.87) deg, mag = (39.28, 0.06), RMS = (0.41, 0.07) ADU\n",
      "freq_i = 4599.999998 MHz, phi_i = (295.73, 15.00) deg, mag = (38.25, 0.05), RMS = (0.42, 0.07) ADU\n",
      "freq_i = 4650.000000 MHz, phi_i = (123.90, 216.05) deg, mag = (37.41, 0.06), RMS = (0.41, 0.07) ADU\n",
      "freq_i = 4700.000002 MHz, phi_i = (311.76, 39.55) deg, mag = (36.78, 0.07), RMS = (0.40, 0.07) ADU\n",
      "freq_i = 4749.999998 MHz, phi_i = (139.15, 230.39) deg, mag = (36.30, 0.07), RMS = (0.43, 0.07) ADU\n",
      "freq_i = 4800.000000 MHz, phi_i = (326.56, 66.88) deg, mag = (35.98, 0.07), RMS = (0.43, 0.07) ADU\n",
      "freq_i = 4850.000002 MHz, phi_i = (153.89, 252.89) deg, mag = (35.67, 0.07), RMS = (0.42, 0.07) ADU\n",
      "freq_i = 4899.999998 MHz, phi_i = (341.66, 85.09) deg, mag = (35.54, 0.08), RMS = (0.41, 0.07) ADU\n",
      "freq_i = 4950.000000 MHz, phi_i = (170.55, 271.35) deg, mag = (35.22, 0.08), RMS = (0.44, 0.07) ADU\n",
      "freq_i = 5000.000002 MHz, phi_i = (358.90, 114.75) deg, mag = (34.91, 0.09), RMS = (0.41, 0.07) ADU\n",
      "freq_i = 5049.999998 MHz, phi_i = (187.62, 294.40) deg, mag = (34.50, 0.09), RMS = (0.41, 0.07) ADU\n",
      "freq_i = 5100.000000 MHz, phi_i = (16.24, 137.50) deg, mag = (33.96, 0.07), RMS = (0.42, 0.07) ADU\n",
      "freq_i = 5150.000002 MHz, phi_i = (205.50, 321.50) deg, mag = (33.31, 0.09), RMS = (0.44, 0.07) ADU\n",
      "freq_i = 5199.999998 MHz, phi_i = (35.45, 161.96) deg, mag = (32.47, 0.07), RMS = (0.41, 0.07) ADU\n",
      "freq_i = 5250.000000 MHz, phi_i = (225.93, 349.01) deg, mag = (31.65, 0.09), RMS = (0.40, 0.07) ADU\n",
      "freq_i = 5300.000002 MHz, phi_i = (56.34, 180.89) deg, mag = (30.77, 0.08), RMS = (0.39, 0.07) ADU\n",
      "freq_i = 5349.999998 MHz, phi_i = (246.74, 18.72) deg, mag = (29.77, 0.09), RMS = (0.37, 0.07) ADU\n",
      "freq_i = 5400.000000 MHz, phi_i = (76.64, 195.17) deg, mag = (28.89, 0.09), RMS = (0.39, 0.07) ADU\n",
      "freq_i = 5450.000002 MHz, phi_i = (266.04, 37.42) deg, mag = (28.04, 0.08), RMS = (0.40, 0.07) ADU\n",
      "freq_i = 5499.999998 MHz, phi_i = (95.52, 225.89) deg, mag = (27.05, 0.10), RMS = (0.35, 0.07) ADU\n",
      "freq_i = 5550.000000 MHz, phi_i = (284.24, 58.70) deg, mag = (26.29, 0.09), RMS = (0.35, 0.07) ADU\n",
      "freq_i = 5600.000002 MHz, phi_i = (112.01, 258.11) deg, mag = (25.25, 0.11), RMS = (0.35, 0.07) ADU\n",
      "freq_i = 5649.999998 MHz, phi_i = (300.36, 82.85) deg, mag = (24.47, 0.10), RMS = (0.34, 0.07) ADU\n",
      "freq_i = 5700.000000 MHz, phi_i = (127.60, 283.52) deg, mag = (23.64, 0.10), RMS = (0.35, 0.07) ADU\n",
      "freq_i = 5750.000002 MHz, phi_i = (315.29, 108.89) deg, mag = (22.78, 0.10), RMS = (0.31, 0.07) ADU\n",
      "freq_i = 5799.999998 MHz, phi_i = (143.34, 315.49) deg, mag = (21.94, 0.09), RMS = (0.32, 0.07) ADU\n",
      "freq_i = 5850.000000 MHz, phi_i = (331.07, 137.73) deg, mag = (21.18, 0.10), RMS = (0.34, 0.07) ADU\n",
      "freq_i = 5900.000002 MHz, phi_i = (159.79, 336.23) deg, mag = (20.60, 0.07), RMS = (0.60, 0.11) ADU\n",
      "freq_i = 5949.999998 MHz, phi_i = (348.29, 162.35) deg, mag = (19.82, 0.10), RMS = (0.33, 0.07) ADU\n",
      "freq_i = 6000.000000 MHz, phi_i = (178.48, 355.79) deg, mag = (19.26, 0.07), RMS = (0.31, 0.07) ADU\n",
      "freq_i = 6050.000002 MHz, phi_i = (12.19, 194.68) deg, mag = (19.02, 0.09), RMS = (0.33, 0.07) ADU\n",
      "freq_i = 6099.999998 MHz, phi_i = (210.81, 5.83) deg, mag = (19.56, 0.09), RMS = (0.40, 0.07) ADU\n",
      "freq_i = 6150.000000 MHz, phi_i = (48.13, 214.37) deg, mag = (20.81, 0.08), RMS = (0.31, 0.07) ADU\n",
      "freq_i = 6200.000002 MHz, phi_i = (238.60, 39.79) deg, mag = (20.56, 0.09), RMS = (0.28, 0.07) ADU\n",
      "freq_i = 6249.999998 MHz, phi_i = (69.24, 232.65) deg, mag = (20.30, 0.08), RMS = (0.30, 0.07) ADU\n",
      "freq_i = 6300.000000 MHz, phi_i = (259.72, 61.80) deg, mag = (19.89, 0.09), RMS = (0.30, 0.07) ADU\n",
      "freq_i = 6350.000002 MHz, phi_i = (90.31, 253.69) deg, mag = (19.30, 0.08), RMS = (0.29, 0.07) ADU\n",
      "freq_i = 6399.999998 MHz, phi_i = (280.46, 82.66) deg, mag = (18.66, 0.09), RMS = (0.29, 0.07) ADU\n",
      "freq_i = 6450.000000 MHz, phi_i = (110.63, 270.20) deg, mag = (18.00, 0.10), RMS = (0.26, 0.07) ADU\n",
      "freq_i = 6500.000002 MHz, phi_i = (300.59, 101.46) deg, mag = (17.28, 0.12), RMS = (0.26, 0.07) ADU\n",
      "freq_i = 6549.999998 MHz, phi_i = (130.68, 299.92) deg, mag = (16.57, 0.12), RMS = (0.26, 0.07) ADU\n",
      "freq_i = 6600.000000 MHz, phi_i = (320.83, 134.64) deg, mag = (15.89, 0.12), RMS = (0.25, 0.07) ADU\n",
      "freq_i = 6650.000002 MHz, phi_i = (150.50, 319.00) deg, mag = (15.19, 0.12), RMS = (0.23, 0.07) ADU\n",
      "freq_i = 6699.999998 MHz, phi_i = (340.60, 165.79) deg, mag = (14.60, 0.10), RMS = (0.25, 0.07) ADU\n",
      "freq_i = 6750.000000 MHz, phi_i = (170.47, 6.82) deg, mag = (13.99, 0.13), RMS = (0.23, 0.07) ADU\n",
      "freq_i = 6800.000002 MHz, phi_i = (0.57, 171.42) deg, mag = (13.54, 0.12), RMS = (0.22, 0.07) ADU\n",
      "freq_i = 6849.999998 MHz, phi_i = (191.03, 41.00) deg, mag = (13.16, 0.09), RMS = (0.27, 0.07) ADU\n",
      "freq_i = 6900.000000 MHz, phi_i = (21.39, 209.04) deg, mag = (12.78, 0.15), RMS = (0.27, 0.07) ADU\n",
      "freq_i = 6950.000002 MHz, phi_i = (212.39, 46.82) deg, mag = (12.56, 0.08), RMS = (0.23, 0.07) ADU\n",
      "freq_i = 6999.999998 MHz, phi_i = (43.14, 235.40) deg, mag = (12.24, 0.15), RMS = (0.20, 0.07) ADU\n",
      "freq_i = 7050.000000 MHz, phi_i = (234.85, 52.03) deg, mag = (12.06, 0.07), RMS = (0.20, 0.07) ADU\n",
      "freq_i = 7100.000002 MHz, phi_i = (66.28, 273.91) deg, mag = (11.78, 0.17), RMS = (0.20, 0.07) ADU\n",
      "freq_i = 7149.999998 MHz, phi_i = (258.19, 34.81) deg, mag = (11.49, 0.10), RMS = (0.21, 0.07) ADU\n",
      "freq_i = 7200.000000 MHz, phi_i = (89.56, 334.14) deg, mag = (11.17, 0.15), RMS = (0.20, 0.07) ADU\n",
      "freq_i = 7250.000002 MHz, phi_i = (281.28, 94.51) deg, mag = (10.87, 0.23), RMS = (0.19, 0.07) ADU\n",
      "freq_i = 7299.999998 MHz, phi_i = (113.54, 58.71) deg, mag = (10.56, 0.02), RMS = (0.20, 0.07) ADU\n",
      "freq_i = 7350.000000 MHz, phi_i = (305.59, 156.40) deg, mag = (10.24, 0.22), RMS = (0.17, 0.07) ADU\n",
      "freq_i = 7400.000002 MHz, phi_i = (138.00, 295.32) deg, mag = (9.82, 0.10), RMS = (0.17, 0.07) ADU\n",
      "freq_i = 7449.999998 MHz, phi_i = (330.28, 205.01) deg, mag = (9.39, 0.17), RMS = (0.16, 0.07) ADU\n",
      "freq_i = 7500.000000 MHz, phi_i = (162.43, 342.30) deg, mag = (8.93, 0.15), RMS = (0.15, 0.07) ADU\n",
      "freq_i = 7550.000002 MHz, phi_i = (354.96, 236.40) deg, mag = (8.50, 0.10), RMS = (0.16, 0.07) ADU\n",
      "freq_i = 7599.999998 MHz, phi_i = (187.30, 32.73) deg, mag = (8.09, 0.14), RMS = (0.14, 0.07) ADU\n",
      "freq_i = 7650.000000 MHz, phi_i = (19.73, 236.81) deg, mag = (7.63, 0.04), RMS = (0.13, 0.07) ADU\n",
      "freq_i = 7700.000002 MHz, phi_i = (211.80, 75.46) deg, mag = (7.30, 0.10), RMS = (0.13, 0.07) ADU\n",
      "freq_i = 7749.999998 MHz, phi_i = (43.86, 240.40) deg, mag = (6.98, 0.10), RMS = (0.13, 0.07) ADU\n",
      "freq_i = 7800.000000 MHz, phi_i = (235.63, 100.02) deg, mag = (6.62, 0.12), RMS = (0.13, 0.08) ADU\n",
      "freq_i = 7850.000002 MHz, phi_i = (67.86, 266.67) deg, mag = (6.17, 0.08), RMS = (0.14, 0.12) ADU\n",
      "freq_i = 7899.999998 MHz, phi_i = (256.32, 104.02) deg, mag = (5.81, 0.12), RMS = (0.12, 0.09) ADU\n",
      "freq_i = 7950.000000 MHz, phi_i = (87.03, 295.04) deg, mag = (5.59, 0.07), RMS = (0.12, 0.07) ADU\n"
     ]
    }
   ],
   "source": [
    "config['reps'] = 1000\n",
    "\n",
    "config['soft_avgs'] = 1\n",
    "res=[]\n",
    "for f0 in f_v:\n",
    "    config['pulse_freq'] = f0\n",
    "\n",
    "    prog =LAB_v0.SingleFreqProgram(soccfg, config)\n",
    "    avg_data = prog.acquire(soc, load_pulses=True, progress=False, debug=False)\n",
    "    data = [[prog.di_buf[i]/config['readout_length'], prog.dq_buf[i]/config['readout_length']] for i in range(2)]\n",
    "    res.append([calculate_phase(d) for d in data])\n",
    "    print_results(res[-1], f0)\n",
    "\n",
    "ff_v = np.array([[a[0] for a in r] for r in res]).T\n",
    "soc.reset_gens()\n"
   ]
  },
  {
   "cell_type": "code",
   "execution_count": 197,
   "metadata": {},
   "outputs": [
    {
     "data": {
      "text/plain": [
       "[<matplotlib.lines.Line2D at 0x226f2797640>]"
      ]
     },
     "execution_count": 197,
     "metadata": {},
     "output_type": "execute_result"
    },
    {
     "data": {
      "image/png": "[encoded data removed]",
      "text/plain": [
       "<Figure size 432x288 with 2 Axes>"
      ]
     },
     "metadata": {
      "needs_background": "light"
     },
     "output_type": "display_data"
    }
   ],
   "source": [
    "fig, axs = plt.subplots(2,1)\n",
    "\n",
    "plot = axs[0]\n",
    "plot.set_title(r\"$\\phi$ vs $f$\")\n",
    "plot.set_ylabel(r\"$\\phi$ (degrees)\")\n",
    "plot.set_xlabel(r\"$f$ (MHz)\")\n",
    "plot.plot(f_v, ff_v[ch], marker='.', linestyle=\"None\",color=\"Red\")\n",
    "plot.plot(f_v, phase_model(fit.x, f_v))\n",
    "\n",
    "plot = axs[1]\n",
    "plot.set_ylabel(r\"residual (degrees)\")\n",
    "plot.set_xlabel(r\"$f$ (MHz)\")\n",
    "\n",
    "plot.plot(f_v, phase_func(fit.x, ff_v[ch], f_v), marker='.', linestyle=\"None\",color=\"Red\")\n",
    "#     plot.plot(f0_v, phase_func(x0, (fi_v[ch])), marker='.', linestyle=\"None\",color=\"Red\")\n"
   ]
  },
  {
   "cell_type": "markdown",
   "metadata": {},
   "source": [
    "### initial guess instead of `least_square` fit"
   ]
  },
  {
   "cell_type": "code",
   "execution_count": 194,
   "metadata": {},
   "outputs": [
    {
     "data": {
      "text/plain": [
       "[<matplotlib.lines.Line2D at 0x226f2737c10>]"
      ]
     },
     "execution_count": 194,
     "metadata": {},
     "output_type": "execute_result"
    },
    {
     "data": {
      "image/png": "[encoded data removed]",
      "text/plain": [
       "<Figure size 432x288 with 2 Axes>"
      ]
     },
     "metadata": {
      "needs_background": "light"
     },
     "output_type": "display_data"
    }
   ],
   "source": [
    "fig, axs = plt.subplots(2,1)\n",
    "\n",
    "plot = axs[0]\n",
    "plot.set_title(r\"$\\phi$ vs $f$\")\n",
    "plot.set_ylabel(r\"$\\phi$ (degrees)\")\n",
    "plot.set_xlabel(r\"$f$ (MHz)\")\n",
    "plot.plot(f_v, ff_v[ch], marker='.', linestyle=\"None\",color=\"Red\")\n",
    "plot.plot(f_v, phase_model(fit.x, f_v))\n",
    "\n",
    "plot = axs[1]\n",
    "plot.set_ylabel(r\"residual (degrees)\")\n",
    "plot.set_xlabel(r\"$f$ (MHz)\")\n",
    "\n",
    "plot.plot(f_v, phase_func([190, 41.52], ff_v[ch], f_v), marker='.', linestyle=\"None\",color=\"Red\")"
   ]
  },
  {
   "cell_type": "code",
   "execution_count": 104,
   "metadata": {},
   "outputs": [
    {
     "data": {
      "text/plain": [
       "array([195.59442516,  42.53010939])"
      ]
     },
     "execution_count": 104,
     "metadata": {},
     "output_type": "execute_result"
    }
   ],
   "source": [
    "fit.x"
   ]
  },
  {
   "cell_type": "code",
   "execution_count": 171,
   "metadata": {},
   "outputs": [
    {
     "data": {
      "text/plain": [
       "3.330088212805181"
      ]
     },
     "execution_count": 171,
     "metadata": {},
     "output_type": "execute_result"
    }
   ],
   "source": [
    "2*np.pi*0.53"
   ]
  },
  {
   "cell_type": "code",
   "execution_count": null,
   "metadata": {},
   "outputs": [],
   "source": []
  }
 ],
 "metadata": {
  "kernelspec": {
   "display_name": "Python 3",
   "language": "python",
   "name": "python3"
  },
  "language_info": {
   "codemirror_mode": {
    "name": "ipython",
    "version": 3
   },
   "file_extension": ".py",
   "mimetype": "text/x-python",
   "name": "python",
   "nbconvert_exporter": "python",
   "pygments_lexer": "ipython3",
   "version": "3.8.5"
  }
 },
 "nbformat": 4,
 "nbformat_minor": 4
}
