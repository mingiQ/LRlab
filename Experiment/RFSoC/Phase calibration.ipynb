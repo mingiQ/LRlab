{
 "cells": [
  {
   "cell_type": "markdown",
   "metadata": {},
   "source": [
    "# Phase Calibration of RFSoC 23/5/15"
   ]
  },
  {
   "cell_type": "markdown",
   "metadata": {},
   "source": [
    "Although the clocks in ADC and DAC are precise, they are not synchronized. \n",
    "Whether the ADC clock is advanced or retarded with respect to the DAC, it results in phase difference as a function of time\n",
    "\n",
    "$$ \\Delta \\phi = 2\\,\\pi \\,\\tau\\, f + \\phi_0  $$\n",
    "\n",
    "For phase coherent measurement, we need to figure out the ADC delay $\\tau$ and compensate the effect of ADC delay!\n",
    "\n"
   ]
  },
  {
   "cell_type": "code",
   "execution_count": 1,
   "metadata": {},
   "outputs": [
    {
     "name": "stdout",
     "output_type": "stream",
     "text": [
      "Could not import QickSoc: No module named 'pynq'\n"
     ]
    }
   ],
   "source": [
    "# In[0] Phase cal.\n",
    "import sys\n",
    "import numpy as np\n",
    "import matplotlib.pyplot as plt\n",
    "sys.path.append('Z:/Mingi Kim/python_codes/Experiment')\n",
    "sys.path.append('Z:/Mingi Kim/FPGA/qick/qick_lib')\n",
    "from qick import *\n",
    "import LAB_v0 \n",
    "import os\n",
    "import time"
   ]
  },
  {
   "cell_type": "markdown",
   "metadata": {},
   "source": [
    "import the RFSoC board"
   ]
  },
  {
   "cell_type": "code",
   "execution_count": 2,
   "metadata": {},
   "outputs": [
    {
     "name": "stdout",
     "output_type": "stream",
     "text": [
      "Pyro.NameServer PYRO:Pyro.NameServer@192.168.0.102:8888\n",
      "myqick PYRO:obj_dee286116b894fa0bf843023795fd247@192.168.0.102:35647\n",
      "\n",
      "QICK configuration:\n",
      "\n",
      "\tBoard: RFSoC4x2\n",
      "\n",
      "\tGlobal clocks (MHz): tProcessor 350.000, RF reference 491.520\n",
      "\n",
      "\t2 signal generator channels:\n",
      "\t0:\taxis_signal_gen_v6 - tProc output 0, switch ch 0, maxlen 65536\n",
      "\t\tDAC tile 0, ch 0, 32-bit DDS, fabric=614.400 MHz, fs=9830.400 MHz\n",
      "\t1:\taxis_signal_gen_v6 - tProc output 1, switch ch 1, maxlen 65536\n",
      "\t\tDAC tile 2, ch 0, 32-bit DDS, fabric=614.400 MHz, fs=9830.400 MHz\n",
      "\n",
      "\t2 readout channels:\n",
      "\t0:\tADC tile 0, ch 0, 32-bit DDS, fabric=491.520 MHz, fs=3932.160 MHz\n",
      "\t\tmaxlen 1024 (avg) 16384 (decimated), trigger bit 4, tProc input 0\n",
      "\t1:\tADC tile 0, ch 1, 32-bit DDS, fabric=491.520 MHz, fs=3932.160 MHz\n",
      "\t\tmaxlen 1024 (avg) 16384 (decimated), trigger bit 5, tProc input 1\n",
      "\n",
      "\t2 DACs:\n",
      "\t\tDAC tile 0, ch 0 is DAC_B\n",
      "\t\tDAC tile 2, ch 0 is DAC_A\n",
      "\n",
      "\t2 ADCs:\n",
      "\t\tADC tile 0, ch 0 is ADC_D\n",
      "\t\tADC tile 0, ch 1 is ADC_C\n",
      "\n",
      "\t4 digital output pins (tProc output 7):\n",
      "\t0:\tPMOD0_0\n",
      "\t1:\tPMOD0_1\n",
      "\t2:\tPMOD0_2\n",
      "\t3:\tPMOD0_3\n",
      "\n",
      "\ttProc: 1024 words program memory, 1024 words data memory\n",
      "\t\texternal start pin: None\n"
     ]
    }
   ],
   "source": [
    "xilinx = LAB_v0.RFSoC()"
   ]
  },
  {
   "cell_type": "markdown",
   "metadata": {},
   "source": [
    "initialize soc configurations and define several helper functions"
   ]
  },
  {
   "cell_type": "code",
   "execution_count": 5,
   "metadata": {},
   "outputs": [],
   "source": [
    "'''\n",
    "Phase calibration for gen ch=1, ro_ch = 0\n",
    "'''\n",
    "\n",
    "soccfg = xilinx.socconfig()[1]  # SoC configuration\n",
    "soc = xilinx.socconfig()[0]   # SoC \n",
    "\n",
    "out_chs = [1]  # gen ch=1., ro_ch=0\n",
    "\n",
    "def calculate_phase(d):\n",
    "    [xi,xq] = d\n",
    "    x = xi +1j*xq\n",
    "\n",
    "    # Average to improve calibration.\n",
    "    xavg = np.mean(x)\n",
    "\n",
    "    # Calculate calibration phase.\n",
    "    fi = np.remainder(np.angle(xavg,deg=True)+360,360)\n",
    "    return [fi, np.abs(xavg), np.std(x)]\n",
    "\n",
    "def print_results(res, f0):\n",
    "    print(\"freq_i = %f MHz, \"%(f0) +\n",
    "         \"phi_i = (%.2f, %.2f) deg, \" % tuple([res[i][0] for i in range(2)]) +\n",
    "         \"mag = (%.2f, %.2f), \" % tuple([res[i][1] for i in range(2)]) +\n",
    "         \"RMS = (%.2f, %.2f) ADU\" % tuple([res[i][2] for i in range(2)]))\n",
    "#     print(\"freq_i = %f MHz, phi_i = (%.2f, %.2f) deg, mag = (%.2f, %.2f), RMS = (%.2f, %.2f) ADU\" %(f0,*out_array,*A,*xrms))\n",
    "\n"
   ]
  },
  {
   "cell_type": "markdown",
   "metadata": {},
   "source": [
    "I'll use the `SingleFreqProg` in the `LAB_v0.py` code"
   ]
  },
  {
   "cell_type": "code",
   "execution_count": 73,
   "metadata": {},
   "outputs": [
    {
     "name": "stdout",
     "output_type": "stream",
     "text": [
      "freq_i = 5000.000002 MHz, phi_i = (358.76, 119.16) deg, mag = (35.04, 0.09), RMS = (4.14, 0.26) ADU\n",
      "freq_i = 5000.000702 MHz, phi_i = (348.02, 101.34) deg, mag = (35.04, 0.08), RMS = (3.45, 0.28) ADU\n",
      "freq_i = 5000.001402 MHz, phi_i = (337.34, 99.23) deg, mag = (35.10, 0.07), RMS = (4.14, 0.30) ADU\n",
      "freq_i = 5000.002098 MHz, phi_i = (326.55, 81.56) deg, mag = (35.12, 0.08), RMS = (2.95, 0.26) ADU\n",
      "freq_i = 5000.002798 MHz, phi_i = (315.84, 65.17) deg, mag = (35.18, 0.08), RMS = (5.42, 0.28) ADU\n",
      "freq_i = 5000.003499 MHz, phi_i = (305.22, 57.43) deg, mag = (35.17, 0.08), RMS = (7.80, 0.26) ADU\n",
      "freq_i = 5000.004199 MHz, phi_i = (294.31, 57.18) deg, mag = (35.24, 0.08), RMS = (2.10, 0.30) ADU\n",
      "freq_i = 5000.004900 MHz, phi_i = (283.67, 38.31) deg, mag = (35.27, 0.08), RMS = (2.94, 0.26) ADU\n",
      "freq_i = 5000.005600 MHz, phi_i = (272.99, 29.81) deg, mag = (35.18, 0.09), RMS = (4.14, 0.27) ADU\n",
      "freq_i = 5000.006300 MHz, phi_i = (262.34, 12.52) deg, mag = (35.17, 0.08), RMS = (8.99, 0.28) ADU\n",
      "freq_i = 5000.007001 MHz, phi_i = (251.51, 11.07) deg, mag = (35.18, 0.09), RMS = (2.56, 0.25) ADU\n",
      "freq_i = 5000.007701 MHz, phi_i = (240.90, 0.68) deg, mag = (35.17, 0.08), RMS = (0.98, 0.26) ADU\n",
      "freq_i = 5000.008401 MHz, phi_i = (230.15, 337.07) deg, mag = (35.17, 0.09), RMS = (1.94, 0.27) ADU\n",
      "freq_i = 5000.009102 MHz, phi_i = (219.43, 338.16) deg, mag = (35.17, 0.08), RMS = (5.82, 0.29) ADU\n",
      "freq_i = 5000.009802 MHz, phi_i = (208.60, 330.17) deg, mag = (35.17, 0.09), RMS = (1.98, 0.29) ADU\n",
      "freq_i = 5000.010498 MHz, phi_i = (197.90, 308.37) deg, mag = (35.21, 0.07), RMS = (1.86, 0.27) ADU\n",
      "freq_i = 5000.011198 MHz, phi_i = (187.46, 293.92) deg, mag = (35.18, 0.09), RMS = (4.17, 0.26) ADU\n",
      "freq_i = 5000.011899 MHz, phi_i = (176.51, 292.83) deg, mag = (35.19, 0.08), RMS = (5.34, 0.28) ADU\n",
      "freq_i = 5000.012599 MHz, phi_i = (165.84, 277.33) deg, mag = (35.18, 0.08), RMS = (2.76, 0.27) ADU\n",
      "freq_i = 5000.013300 MHz, phi_i = (155.17, 271.15) deg, mag = (35.18, 0.08), RMS = (2.76, 0.30) ADU\n",
      "freq_i = 5000.014000 MHz, phi_i = (144.34, 262.31) deg, mag = (35.21, 0.09), RMS = (5.64, 0.28) ADU\n",
      "freq_i = 5000.014700 MHz, phi_i = (133.45, 254.30) deg, mag = (35.21, 0.09), RMS = (1.31, 0.26) ADU\n",
      "freq_i = 5000.015401 MHz, phi_i = (122.74, 238.86) deg, mag = (35.21, 0.09), RMS = (2.98, 0.27) ADU\n",
      "freq_i = 5000.016101 MHz, phi_i = (112.11, 222.33) deg, mag = (35.19, 0.08), RMS = (3.72, 0.29) ADU\n",
      "freq_i = 5000.016801 MHz, phi_i = (101.38, 213.47) deg, mag = (35.20, 0.08), RMS = (5.45, 0.26) ADU\n",
      "freq_i = 5000.017502 MHz, phi_i = (90.68, 214.05) deg, mag = (35.19, 0.07), RMS = (3.46, 0.26) ADU\n",
      "freq_i = 5000.018202 MHz, phi_i = (79.92, 188.08) deg, mag = (35.20, 0.08), RMS = (1.71, 0.25) ADU\n",
      "freq_i = 5000.018898 MHz, phi_i = (69.34, 191.55) deg, mag = (35.20, 0.08), RMS = (4.46, 0.28) ADU\n",
      "freq_i = 5000.019598 MHz, phi_i = (58.53, 172.29) deg, mag = (35.20, 0.08), RMS = (2.86, 0.28) ADU\n",
      "freq_i = 5000.020299 MHz, phi_i = (47.99, 166.59) deg, mag = (35.19, 0.09), RMS = (7.10, 0.28) ADU\n",
      "freq_i = 5000.020999 MHz, phi_i = (37.17, 158.51) deg, mag = (35.19, 0.09), RMS = (0.64, 0.26) ADU\n",
      "freq_i = 5000.021700 MHz, phi_i = (26.45, 143.74) deg, mag = (35.19, 0.08), RMS = (0.90, 0.26) ADU\n",
      "freq_i = 5000.022400 MHz, phi_i = (15.59, 128.80) deg, mag = (35.20, 0.08), RMS = (3.33, 0.33) ADU\n",
      "freq_i = 5000.023100 MHz, phi_i = (5.08, 125.17) deg, mag = (35.18, 0.09), RMS = (1.69, 0.29) ADU\n",
      "freq_i = 5000.023801 MHz, phi_i = (354.30, 113.29) deg, mag = (35.17, 0.08), RMS = (4.32, 0.26) ADU\n",
      "freq_i = 5000.024501 MHz, phi_i = (343.47, 101.27) deg, mag = (35.17, 0.08), RMS = (4.68, 0.37) ADU\n",
      "freq_i = 5000.025201 MHz, phi_i = (332.77, 93.96) deg, mag = (35.16, 0.09), RMS = (2.97, 0.31) ADU\n",
      "freq_i = 5000.025902 MHz, phi_i = (322.11, 87.98) deg, mag = (35.18, 0.09), RMS = (1.62, 0.26) ADU\n",
      "freq_i = 5000.026602 MHz, phi_i = (311.34, 64.56) deg, mag = (35.18, 0.08), RMS = (2.40, 0.26) ADU\n",
      "freq_i = 5000.027298 MHz, phi_i = (300.70, 62.12) deg, mag = (35.16, 0.08), RMS = (2.03, 0.26) ADU\n",
      "freq_i = 5000.027998 MHz, phi_i = (289.87, 40.22) deg, mag = (35.19, 0.08), RMS = (3.87, 0.29) ADU\n",
      "freq_i = 5000.028699 MHz, phi_i = (279.20, 35.28) deg, mag = (35.20, 0.09), RMS = (5.14, 0.27) ADU\n",
      "freq_i = 5000.029399 MHz, phi_i = (268.53, 22.56) deg, mag = (35.17, 0.08), RMS = (4.44, 0.27) ADU\n",
      "freq_i = 5000.030099 MHz, phi_i = (257.68, 13.09) deg, mag = (35.16, 0.08), RMS = (3.12, 0.30) ADU\n",
      "freq_i = 5000.030800 MHz, phi_i = (247.11, 6.09) deg, mag = (35.16, 0.08), RMS = (3.00, 0.29) ADU\n",
      "freq_i = 5000.031500 MHz, phi_i = (236.42, 359.01) deg, mag = (35.16, 0.08), RMS = (5.55, 0.24) ADU\n",
      "freq_i = 5000.032201 MHz, phi_i = (225.64, 337.27) deg, mag = (35.17, 0.08), RMS = (1.16, 0.45) ADU\n",
      "freq_i = 5000.032901 MHz, phi_i = (214.79, 340.57) deg, mag = (35.17, 0.08), RMS = (6.20, 0.28) ADU\n",
      "freq_i = 5000.033601 MHz, phi_i = (204.19, 323.10) deg, mag = (35.19, 0.06), RMS = (3.85, 0.26) ADU\n",
      "freq_i = 5000.034302 MHz, phi_i = (193.40, 310.03) deg, mag = (35.18, 0.08), RMS = (3.50, 0.27) ADU\n",
      "freq_i = 5000.035002 MHz, phi_i = (182.87, 295.58) deg, mag = (35.19, 0.08), RMS = (7.22, 0.25) ADU\n",
      "freq_i = 5000.035698 MHz, phi_i = (172.07, 285.35) deg, mag = (35.20, 0.09), RMS = (1.31, 0.31) ADU\n",
      "freq_i = 5000.036398 MHz, phi_i = (161.39, 278.32) deg, mag = (35.17, 0.09), RMS = (1.87, 0.27) ADU\n",
      "freq_i = 5000.037099 MHz, phi_i = (150.73, 267.19) deg, mag = (35.15, 0.09), RMS = (4.93, 0.30) ADU\n",
      "freq_i = 5000.037799 MHz, phi_i = (139.86, 255.83) deg, mag = (35.17, 0.09), RMS = (6.97, 0.27) ADU\n",
      "freq_i = 5000.038499 MHz, phi_i = (129.24, 238.12) deg, mag = (35.16, 0.08), RMS = (9.48, 0.26) ADU\n",
      "freq_i = 5000.039200 MHz, phi_i = (118.60, 235.77) deg, mag = (35.18, 0.09), RMS = (0.54, 0.30) ADU\n",
      "freq_i = 5000.039900 MHz, phi_i = (107.76, 230.59) deg, mag = (35.18, 0.08), RMS = (8.33, 0.31) ADU\n",
      "freq_i = 5000.040601 MHz, phi_i = (97.12, 215.80) deg, mag = (35.16, 0.09), RMS = (3.35, 0.30) ADU\n",
      "freq_i = 5000.041301 MHz, phi_i = (86.34, 196.31) deg, mag = (35.19, 0.09), RMS = (4.33, 0.31) ADU\n",
      "freq_i = 5000.042001 MHz, phi_i = (75.60, 196.20) deg, mag = (35.19, 0.09), RMS = (2.77, 0.34) ADU\n",
      "freq_i = 5000.042702 MHz, phi_i = (64.86, 175.30) deg, mag = (35.19, 0.10), RMS = (1.24, 0.29) ADU\n",
      "freq_i = 5000.043402 MHz, phi_i = (54.20, 165.38) deg, mag = (35.19, 0.08), RMS = (3.18, 0.25) ADU\n",
      "freq_i = 5000.044098 MHz, phi_i = (43.72, 166.11) deg, mag = (35.17, 0.08), RMS = (2.45, 0.28) ADU\n",
      "freq_i = 5000.044798 MHz, phi_i = (32.78, 145.97) deg, mag = (35.18, 0.08), RMS = (3.19, 0.28) ADU\n",
      "freq_i = 5000.045499 MHz, phi_i = (22.04, 135.40) deg, mag = (35.19, 0.08), RMS = (8.42, 0.28) ADU\n",
      "freq_i = 5000.046199 MHz, phi_i = (11.25, 121.49) deg, mag = (35.19, 0.08), RMS = (1.53, 0.26) ADU\n",
      "freq_i = 5000.046899 MHz, phi_i = (0.51, 117.46) deg, mag = (35.18, 0.09), RMS = (2.54, 0.25) ADU\n",
      "freq_i = 5000.047600 MHz, phi_i = (349.88, 101.09) deg, mag = (35.17, 0.08), RMS = (1.61, 0.29) ADU\n",
      "freq_i = 5000.048300 MHz, phi_i = (339.19, 101.55) deg, mag = (35.18, 0.08), RMS = (1.91, 0.28) ADU\n",
      "freq_i = 5000.049001 MHz, phi_i = (328.53, 79.43) deg, mag = (35.16, 0.08), RMS = (2.51, 0.28) ADU\n",
      "freq_i = 5000.049701 MHz, phi_i = (317.69, 78.61) deg, mag = (35.16, 0.07), RMS = (4.95, 0.28) ADU\n",
      "freq_i = 5000.050401 MHz, phi_i = (307.17, 50.31) deg, mag = (35.15, 0.10), RMS = (4.88, 0.27) ADU\n",
      "freq_i = 5000.051102 MHz, phi_i = (296.35, 57.45) deg, mag = (35.14, 0.08), RMS = (3.53, 0.26) ADU\n",
      "freq_i = 5000.051802 MHz, phi_i = (285.71, 33.05) deg, mag = (35.15, 0.08), RMS = (0.66, 0.26) ADU\n",
      "freq_i = 5000.052498 MHz, phi_i = (274.95, 31.36) deg, mag = (35.16, 0.09), RMS = (1.89, 0.28) ADU\n",
      "freq_i = 5000.053198 MHz, phi_i = (264.15, 23.02) deg, mag = (35.15, 0.08), RMS = (3.84, 0.27) ADU\n",
      "freq_i = 5000.053899 MHz, phi_i = (253.49, 6.31) deg, mag = (35.15, 0.08), RMS = (2.88, 0.27) ADU\n",
      "freq_i = 5000.054599 MHz, phi_i = (242.85, 357.79) deg, mag = (35.13, 0.09), RMS = (3.89, 0.27) ADU\n",
      "freq_i = 5000.055299 MHz, phi_i = (232.09, 348.96) deg, mag = (35.16, 0.07), RMS = (2.93, 0.27) ADU\n"
     ]
    }
   ],
   "source": [
    "\n",
    "config={\"out_ch\":out_chs,\n",
    "        \"reps\":1, # --Fixed\n",
    "        \"res_phase\":soccfg.deg2reg(0), # --Fixed\n",
    "        \n",
    "        \"length\":10, # [Clock ticks]\n",
    "        # Try varying length from 10-100 clock ticks\n",
    "        \n",
    "        \"readout_length\":1000, # [Clock ticks]\n",
    "        # Try varying readout_length from 50-1000 clock ticks\n",
    "\n",
    "        \"pulse_gain\":32000, # [DAC units]\n",
    "        # Try varying pulse_gain from 500 to 30000 DAC units\n",
    "\n",
    "        \"pulse_freq\": 1400, # [MHz]\n",
    "        # In this program the signal is up and downconverted digitally so you won't see any frequency\n",
    "        # components in the I/Q traces below. But since the signal gain depends on frequency, \n",
    "        # if you lower pulse_freq you will see an increased gain.\n",
    "\n",
    "        \"adc_trig_offset\": 1000, # [Clock ticks]\n",
    "        # Try varying adc_trig_offset from 100 to 220 clock ticks\n",
    "\n",
    "        \"soft_avgs\":1\n",
    "        # Try varying soft_avgs from 1 to 200 averages\n",
    "\n",
    "       }\n",
    "\n",
    "res=[]\n",
    "config['reps'] = 1\n",
    "\n",
    "\n",
    "# change this from 1 to 50\n",
    "config['soft_avgs'] = 50\n",
    "\n",
    "\n",
    "f0_start=5000\n",
    "f0_step=0.0007\n",
    "expts=80\n",
    "\n",
    "# =============================================================================\n",
    "#f0_start=100\n",
    "#f0_step=0.000250\n",
    "#expts=40\n",
    "# =============================================================================\n",
    "\n",
    "f0_v = np.arange(0,expts)*f0_step+f0_start\n",
    "\n",
    "f0_v = soccfg.adcfreq(f0_v, gen_ch=1, ro_ch=0)\n",
    "\n",
    "# for f0 in [101]:\n",
    "for f0 in f0_v:\n",
    "    config['pulse_freq'] = f0\n",
    "    prog =LAB_v0.SingleFreqProgram(soccfg, config)\n",
    "#     print(prog)\n",
    "    data = prog.acquire_decimated(soc, load_pulses=True, progress=False, debug=False)\n",
    "#     print(data)\n",
    "    res.append([calculate_phase(d) for d in data])\n",
    "    print_results(res[-1], f0)\n",
    "fi_v=np.array([[a[0] for a in r] for r in res]).T\n",
    "\n",
    "soc.reset_gens()"
   ]
  },
  {
   "cell_type": "code",
   "execution_count": 74,
   "metadata": {},
   "outputs": [
    {
     "data": {
      "text/plain": [
       "Text(0.5, 0, '$f$ (MHz)')"
      ]
     },
     "execution_count": 74,
     "metadata": {},
     "output_type": "execute_result"
    },
    {
     "data": {
      "image/png": "[encoded data removed]",
      "text/plain": [
       "<Figure size 432x288 with 1 Axes>"
      ]
     },
     "metadata": {
      "needs_background": "light"
     },
     "output_type": "display_data"
    }
   ],
   "source": [
    "'''\n",
    "Plot result\n",
    "'''\n",
    "\n",
    "plt.plot(f0_v, fi_v[0])\n",
    "plt.plot(f0_v, fi_v[0], marker='.', linestyle=\"None\", color='Red')\n",
    "plt.title(r\"$\\phi$ vs $f$ : ADC_{}\".format(0))\n",
    "plt.ylabel(r\"$\\phi$ (degrees)\")\n",
    "plt.xlabel(r\"$f$ (MHz)\")\n"
   ]
  },
  {
   "cell_type": "markdown",
   "metadata": {},
   "source": [
    "Now we have frequency and corresponding data\n",
    "which needed to be fit with $ (2\\pi\\,\\tau\\,f + \\phi_0) + \\phi_{signal} $\n",
    "\n",
    "Let's define useful functions for analyzing phase and model function first"
   ]
  },
  {
   "cell_type": "code",
   "execution_count": 75,
   "metadata": {},
   "outputs": [],
   "source": [
    "\n",
    "def phase_residuals(data,prediction):\n",
    "    '''\n",
    "    (data - pred + pi) mod 2pi ; returns the difference between data and pred\n",
    "    '''\n",
    "    r = np.remainder(data-prediction+180,360)-180\n",
    "    return r\n",
    "    \n",
    "def phase_model(x, f0):\n",
    "    '''\n",
    "    x = [x0, x1] , \n",
    "    x0 : phase offset, x1 : ADC delay\n",
    "    (x0 - 2pi*x1*f0) mod 2pi\n",
    "    '''\n",
    "    return np.remainder(x[0] - 360*x[1]*(f0), 360)\n",
    "\n",
    "def phase_func(x, arg, freq):\n",
    "    '''\n",
    "    difference b/w data and phase drag due to the ADC delay = real signal\n",
    "    '''\n",
    "    resid = phase_residuals(arg, phase_model(x, freq))\n",
    "    return resid"
   ]
  },
  {
   "cell_type": "markdown",
   "metadata": {},
   "source": [
    "For fitting, we will estimate the slope (corresponds to ADC delay) and the intercept (offset phase)"
   ]
  },
  {
   "cell_type": "code",
   "execution_count": 76,
   "metadata": {},
   "outputs": [
    {
     "name": "stdout",
     "output_type": "stream",
     "text": [
      "[   42.59789645    42.38626505    43.03690118    42.50519613\n",
      "    42.12473507    43.27283083    42.16474623    42.38686933\n",
      "    42.23568606    42.96351184    42.04536133    42.65382709\n",
      "    42.51513961    42.97352956    42.70257368    41.3840832\n",
      "    43.43427604    42.34422025    42.28621963    42.98979028\n",
      "    43.16437569    42.47876848    42.1643729     42.54276491\n",
      "    42.46108409    42.64820694    42.24575614    42.87648565\n",
      "    41.82383124    42.90458524    42.51567346    43.07462881\n",
      "    41.66166937 -1385.02648636    42.95586425    42.44736412\n",
      "    42.24366042    42.72681868    42.49973328    42.93933559\n",
      "    42.31716354    42.33231999    43.0137707     41.92708746\n",
      "    42.38682151    42.75379247    43.03745336    42.06082392\n",
      "    42.77948747    41.78035012    43.08896544    42.35709924\n",
      "    42.3022356     43.11522991    42.08943911    42.19531729\n",
      "    43.02183881    42.18686919    42.75331055    42.58757794\n",
      "    42.60790247    42.29077438    41.80700853    43.41231574\n",
      "    42.57420703    42.80969848    42.5847236  -1385.60857345\n",
      "    42.38896404    42.25673262    43.00199293    41.71517145\n",
      "    42.90841377    42.20726241    42.98109465    42.82450631\n",
      "    42.26126557    42.20405179    42.69145578]\n",
      "initial estimate: 351.44 deg shift, 42.51 us delay\n"
     ]
    }
   ],
   "source": [
    "from scipy.optimize import least_squares\n",
    "#fig, axs = plt.subplots(2,1)\n",
    "\n",
    "ch = 0\n",
    "\n",
    "slopes = -1*(fi_v[ch,1:]-fi_v[ch,:-1])/(360*(f0_v[1:]-f0_v[:-1]))\n",
    "print(slopes)\n",
    "\n",
    "\n",
    "x0 = np.zeros(2)\n",
    "x0[1] = np.median(slopes)\n",
    "x0[0] = np.remainder(np.median(phase_residuals(fi_v[ch],phase_model(x0, f0_v))),360)\n",
    "print(\"initial estimate: %.2f deg shift, %.2f us delay\"% tuple(x0))"
   ]
  },
  {
   "cell_type": "markdown",
   "metadata": {},
   "source": [
    "And then using `least_squares` method, will fit the linear function"
   ]
  },
  {
   "cell_type": "code",
   "execution_count": 77,
   "metadata": {},
   "outputs": [
    {
     "data": {
      "text/plain": [
       "array([351.43571664,  42.50519613])"
      ]
     },
     "execution_count": 77,
     "metadata": {},
     "output_type": "execute_result"
    }
   ],
   "source": [
    "# initial guess\n",
    "x0"
   ]
  },
  {
   "cell_type": "markdown",
   "metadata": {},
   "source": [
    "`least_squares(model , initial guess, maxfev, args=(ydata, xdata))`\n",
    "\n",
    "by fitting, we will determine two parameters : $\\tau$ and $\\phi_0$"
   ]
  },
  {
   "cell_type": "code",
   "execution_count": 79,
   "metadata": {},
   "outputs": [
    {
     "name": "stdout",
     "output_type": "stream",
     "text": [
      "3\n",
      "\n",
      "after minimization: 195.59 deg shift, 42.53 us delay\n"
     ]
    }
   ],
   "source": [
    "fit = least_squares(phase_func, x0, max_nfev=8000, args=(fi_v[ch], f0_v))\n",
    "#     fit = least_squares(phase_func, x0, args=(fi_v[ch]), method='lm', x_scale='jac')\n",
    "#     fit = least_squares(phase_func, x0, args=(fi_v[ch]), method='lm', x_scale=(1,1e-5))\n",
    "fit.x[0] = np.remainder(fit.x[0], 360)\n",
    "print(fit.status)\n",
    "print(\"\\nafter minimization: %.2f deg shift, %.2f us delay\"% tuple(fit.x))"
   ]
  },
  {
   "cell_type": "code",
   "execution_count": 80,
   "metadata": {},
   "outputs": [
    {
     "name": "stdout",
     "output_type": "stream",
     "text": [
      " active_mask: array([0., 0.])\n",
      "        cost: 0.2884805301479766\n",
      "         fun: array([ 9.30665571e-02,  7.59749865e-02,  1.12243357e-01, -1.47020436e-02,\n",
      "       -8.42050534e-03,  9.37890360e-02, -9.34779455e-02, -1.35665379e-03,\n",
      "        3.47593594e-02,  1.08994151e-01, -2.82319633e-04,  1.21940231e-01,\n",
      "        9.07465181e-02,  9.45209460e-02, -1.72813428e-02, -6.04816227e-02,\n",
      "        2.28473087e-01,  4.99920163e-04,  4.73693082e-02,  1.08862756e-01,\n",
      "       -7.03944604e-03, -1.66960974e-01, -1.54016068e-01, -6.18006463e-02,\n",
      "       -6.49915580e-02, -4.75877769e-02, -7.73644457e-02, -6.13729947e-03,\n",
      "       -9.34713007e-02,  8.46070120e-02, -9.81191506e-03, -6.17209291e-03,\n",
      "       -1.43465178e-01,  7.55000166e-02,  1.42391328e-02, -9.31090899e-02,\n",
      "       -7.22460063e-02, -2.18544051e-05, -4.96193915e-02, -4.20105285e-02,\n",
      "       -1.45191278e-01, -9.14999105e-02, -4.16300492e-02, -1.63578585e-01,\n",
      "       -1.15349059e-02,  2.45931634e-02, -3.18054414e-02, -1.59725235e-01,\n",
      "       -4.14013791e-02, -1.04278625e-01,  8.47628522e-02, -5.52240348e-02,\n",
      "       -1.16019064e-02,  4.58533209e-02, -1.01676759e-01,  9.43218762e-03,\n",
      "        9.38454102e-02, -3.01373893e-02,  5.64058892e-02,  1.28791637e-04,\n",
      "       -1.43611105e-02, -3.39755615e-02,  2.63694675e-02,  2.07497749e-01,\n",
      "       -1.49384323e-02, -2.60570415e-02, -9.65515792e-02, -1.10321799e-01,\n",
      "       -2.48174380e-02,  1.07704056e-02,  7.96985976e-02, -3.92803361e-02,\n",
      "        1.66195046e-01,  7.08108102e-02,  1.52212218e-01,  3.92457000e-02,\n",
      "       -3.49824277e-02,  3.28028425e-02,  1.15013779e-01,  7.43325098e-02])\n",
      "        grad: array([ 8.42120419e-04, -1.51580047e+03])\n",
      "         jac: array([[-1.00000898e+00,  1.80000000e+06],\n",
      "       [-1.00000898e+00,  1.80000026e+06],\n",
      "       [-1.00000898e+00,  1.80000050e+06],\n",
      "       [-1.00000898e+00,  1.80000075e+06],\n",
      "       [-1.00000898e+00,  1.80000099e+06],\n",
      "       [-1.00000898e+00,  1.80000127e+06],\n",
      "       [-1.00000898e+00,  1.80000151e+06],\n",
      "       [-1.00000898e+00,  1.80000177e+06],\n",
      "       [-1.00000898e+00,  1.80000200e+06],\n",
      "       [-1.00000898e+00,  1.80000226e+06],\n",
      "       [-1.00000898e+00,  1.80000252e+06],\n",
      "       [-1.00000898e+00,  1.80000278e+06],\n",
      "       [-1.00000898e+00,  1.80000303e+06],\n",
      "       [-1.00000898e+00,  1.80000327e+06],\n",
      "       [-1.00000898e+00,  1.80000353e+06],\n",
      "       [-1.00000898e+00,  1.80000376e+06],\n",
      "       [-1.00000898e+00,  1.80000405e+06],\n",
      "       [-1.00000898e+00,  1.80000428e+06],\n",
      "       [-1.00000898e+00,  1.80000454e+06],\n",
      "       [-1.00000898e+00,  1.80000477e+06],\n",
      "       [-1.00000898e+00,  1.80000503e+06],\n",
      "       [-1.00000898e+00,  1.80000529e+06],\n",
      "       [-1.00000898e+00,  1.80000555e+06],\n",
      "       [-1.00000898e+00,  1.80000579e+06],\n",
      "       [-1.00000898e+00,  1.80000604e+06],\n",
      "       [-1.00000898e+00,  1.80000628e+06],\n",
      "       [-1.00000898e+00,  1.80000654e+06],\n",
      "       [-1.00000898e+00,  1.80000680e+06],\n",
      "       [-1.00000898e+00,  1.80000706e+06],\n",
      "       [-1.00000898e+00,  1.80000729e+06],\n",
      "       [-1.00000898e+00,  1.80000755e+06],\n",
      "       [-1.00000898e+00,  1.80000781e+06],\n",
      "       [-1.00000898e+00,  1.80000807e+06],\n",
      "       [-1.00000898e+00,  1.80000833e+06],\n",
      "       [-1.00000898e+00,  1.80000856e+06],\n",
      "       [-1.00000898e+00,  1.80000882e+06],\n",
      "       [-1.00000898e+00,  1.80000905e+06],\n",
      "       [-1.00000898e+00,  1.80000934e+06],\n",
      "       [-1.00000898e+00,  1.80000957e+06],\n",
      "       [-1.00000898e+00,  1.80000983e+06],\n",
      "       [-1.00000898e+00,  1.80001007e+06],\n",
      "       [-1.00000898e+00,  1.80001032e+06],\n",
      "       [-1.00000898e+00,  1.80001058e+06],\n",
      "       [-1.00000898e+00,  1.80001084e+06],\n",
      "       [-1.00000898e+00,  1.80001108e+06],\n",
      "       [-1.00000898e+00,  1.80001133e+06],\n",
      "       [-1.00000898e+00,  1.80001157e+06],\n",
      "       [-1.00000898e+00,  1.80001183e+06],\n",
      "       [-1.00000898e+00,  1.80001211e+06],\n",
      "       [-1.00000898e+00,  1.80001235e+06],\n",
      "       [-1.00000898e+00,  1.80001260e+06],\n",
      "       [-1.00000898e+00,  1.80001284e+06],\n",
      "       [-1.00000898e+00,  1.80001310e+06],\n",
      "       [-1.00000898e+00,  1.80001336e+06],\n",
      "       [-1.00000898e+00,  1.80001362e+06],\n",
      "       [-1.00000898e+00,  1.80001385e+06],\n",
      "       [-1.00000898e+00,  1.80001411e+06],\n",
      "       [-1.00000898e+00,  1.80001434e+06],\n",
      "       [-1.00000898e+00,  1.80001463e+06],\n",
      "       [-1.00000898e+00,  1.80001486e+06],\n",
      "       [-1.00000898e+00,  1.80001512e+06],\n",
      "       [-1.00000898e+00,  1.80001536e+06],\n",
      "       [-1.00000898e+00,  1.80001561e+06],\n",
      "       [-1.00000898e+00,  1.80001587e+06],\n",
      "       [-1.00000898e+00,  1.80001613e+06],\n",
      "       [-1.00000898e+00,  1.80001637e+06],\n",
      "       [-1.00000898e+00,  1.80001663e+06],\n",
      "       [-1.00000898e+00,  1.80001688e+06],\n",
      "       [-1.00000898e+00,  1.80001712e+06],\n",
      "       [-1.00000898e+00,  1.80001740e+06],\n",
      "       [-1.00000898e+00,  1.80001764e+06],\n",
      "       [-1.00000898e+00,  1.80001789e+06],\n",
      "       [-1.00000898e+00,  1.80001813e+06],\n",
      "       [-1.00000898e+00,  1.80001839e+06],\n",
      "       [-1.00000898e+00,  1.80001865e+06],\n",
      "       [-1.00000898e+00,  1.80001891e+06],\n",
      "       [-1.00000898e+00,  1.80001914e+06],\n",
      "       [-1.00000898e+00,  1.80001940e+06],\n",
      "       [-1.00000898e+00,  1.80001963e+06],\n",
      "       [-1.00000898e+00,  1.80001989e+06]])\n",
      "     message: '`xtol` termination condition is satisfied.'\n",
      "        nfev: 1076\n",
      "        njev: 863\n",
      "  optimality: 1515.8004734143615\n",
      "      status: 3\n",
      "     success: True\n",
      "           x: array([195.59442516,  42.53010939])\n"
     ]
    }
   ],
   "source": [
    "print(fit)"
   ]
  },
  {
   "cell_type": "code",
   "execution_count": 102,
   "metadata": {},
   "outputs": [
    {
     "data": {
      "text/plain": [
       "array([195.59442516,  42.53010939])"
      ]
     },
     "execution_count": 102,
     "metadata": {},
     "output_type": "execute_result"
    }
   ],
   "source": [
    "fit.x"
   ]
  },
  {
   "cell_type": "code",
   "execution_count": 209,
   "metadata": {},
   "outputs": [
    {
     "data": {
      "text/plain": [
       "[<matplotlib.lines.Line2D at 0x226f2c720a0>]"
      ]
     },
     "execution_count": 209,
     "metadata": {},
     "output_type": "execute_result"
    },
    {
     "data": {
      "image/png": "[encoded data removed]",
      "text/plain": [
       "<Figure size 432x288 with 2 Axes>"
      ]
     },
     "metadata": {
      "needs_background": "light"
     },
     "output_type": "display_data"
    }
   ],
   "source": [
    "fig, axs = plt.subplots(2,1)\n",
    "\n",
    "plot = axs[0]\n",
    "plot.set_title(r\"$\\phi$ vs $f$\")\n",
    "plot.set_ylabel(r\"$\\phi$ (degrees)\")\n",
    "plot.set_xlabel(r\"$f$ (MHz)\")\n",
    "plot.plot(f0_v,fi_v[ch], marker='.', linestyle=\"None\",color=\"Red\")\n",
    "plot.plot(f0_v, phase_model(fit.x, f0_v))\n",
    "\n",
    "plot = axs[1]\n",
    "plot.set_ylabel(r\"residual (degrees)\")\n",
    "plot.set_xlabel(r\"$f$ (MHz)\")\n",
    "plot.set_ylim(-100,100)\n",
    "\n",
    "plot.plot(f0_v, phase_func(fit.x, fi_v[ch], f0_v), marker='.', linestyle=\"None\",color=\"Red\")\n",
    "#     plot.plot(f0_v, phase_func(x0, (fi_v[ch])), marker='.', linestyle=\"None\",color=\"Red\")\n",
    "\n"
   ]
  },
  {
   "cell_type": "markdown",
   "metadata": {},
   "source": [
    "### initial guess instead of `least_square` fit"
   ]
  },
  {
   "cell_type": "code",
   "execution_count": 210,
   "metadata": {},
   "outputs": [
    {
     "data": {
      "text/plain": [
       "[<matplotlib.lines.Line2D at 0x226f2d1b310>]"
      ]
     },
     "execution_count": 210,
     "metadata": {},
     "output_type": "execute_result"
    },
    {
     "data": {
      "image/png": "[encoded data removed]",
      "text/plain": [
       "<Figure size 432x288 with 2 Axes>"
      ]
     },
     "metadata": {
      "needs_background": "light"
     },
     "output_type": "display_data"
    }
   ],
   "source": [
    "fig, axs = plt.subplots(2,1)\n",
    "\n",
    "plot = axs[0]\n",
    "plot.set_title(r\"$\\phi$ vs $f$\")\n",
    "plot.set_ylabel(r\"$\\phi$ (degrees)\")\n",
    "plot.set_xlabel(r\"$f$ (MHz)\")\n",
    "plot.plot(f0_v,fi_v[ch], marker='.', linestyle=\"None\",color=\"Red\")\n",
    "plot.plot(f0_v, phase_model(x0, f0_v))\n",
    "\n",
    "plot = axs[1]\n",
    "plot.set_ylabel(r\"residual (degrees)\")\n",
    "plot.set_xlabel(r\"$f$ (MHz)\")\n",
    "plot.set_ylim(-100,100)\n",
    "\n",
    "plot.plot(f0_v, phase_func(x0, fi_v[ch], f0_v), marker='.', linestyle=\"None\",color=\"Red\")\n",
    "#     plot.plot(f0_v, phase_func(x0, (fi_v[ch])), marker='.', linestyle=\"None\",color=\"Red\")\n",
    "\n"
   ]
  },
  {
   "cell_type": "markdown",
   "metadata": {},
   "source": [
    "Based on our fit result, let's do the measurement and get phase-coherent result"
   ]
  },
  {
   "cell_type": "markdown",
   "metadata": {},
   "source": [
    "# frequency sweep test"
   ]
  },
  {
   "cell_type": "code",
   "execution_count": 195,
   "metadata": {},
   "outputs": [],
   "source": [
    "config['reps'] = 1\n",
    "\n",
    "\n",
    "# change this from 1 to 50\n",
    "config['soft_avgs'] = 50\n",
    "\n",
    "\n",
    "f_start=3000\n",
    "f_step=50\n",
    "expts=100\n",
    "\n",
    "# =============================================================================\n",
    "#f0_start=100\n",
    "#f0_step=0.000250\n",
    "#expts=40\n",
    "# =============================================================================\n",
    "\n",
    "f_v = np.arange(0,expts)*f_step+f_start\n",
    "\n",
    "f_v = soccfg.adcfreq(f_v, gen_ch=1, ro_ch=1)"
   ]
  },
  {
   "cell_type": "code",
   "execution_count": 201,
   "metadata": {},
   "outputs": [
    {
     "name": "stdout",
     "output_type": "stream",
     "text": [
      "freq_i = 3000.000000 MHz, phi_i = (6.80, 83.50) deg, mag = (77.81, 0.05), RMS = (0.41, 0.07) ADU\n",
      "freq_i = 3050.000002 MHz, phi_i = (197.09, 147.25) deg, mag = (77.41, 0.04), RMS = (0.47, 0.07) ADU\n",
      "freq_i = 3099.999998 MHz, phi_i = (28.16, 151.04) deg, mag = (76.62, 0.07), RMS = (0.46, 0.07) ADU\n",
      "freq_i = 3150.000000 MHz, phi_i = (217.66, 224.07) deg, mag = (75.34, 0.07), RMS = (0.46, 0.07) ADU\n",
      "freq_i = 3200.000002 MHz, phi_i = (46.94, 239.48) deg, mag = (73.93, 0.04), RMS = (0.47, 0.07) ADU\n",
      "freq_i = 3249.999998 MHz, phi_i = (236.26, 278.58) deg, mag = (72.49, 0.10), RMS = (0.45, 0.07) ADU\n",
      "freq_i = 3300.000000 MHz, phi_i = (65.75, 4.52) deg, mag = (70.94, 0.05), RMS = (0.48, 0.07) ADU\n",
      "freq_i = 3350.000002 MHz, phi_i = (255.14, 335.27) deg, mag = (69.36, 0.10), RMS = (0.49, 0.07) ADU\n",
      "freq_i = 3399.999998 MHz, phi_i = (84.50, 63.74) deg, mag = (67.76, 0.10), RMS = (0.44, 0.07) ADU\n",
      "freq_i = 3450.000000 MHz, phi_i = (273.99, 39.66) deg, mag = (66.28, 0.09), RMS = (0.45, 0.07) ADU\n",
      "freq_i = 3500.000002 MHz, phi_i = (103.32, 121.99) deg, mag = (65.06, 0.16), RMS = (0.46, 0.07) ADU\n",
      "freq_i = 3549.999998 MHz, phi_i = (292.61, 116.95) deg, mag = (63.71, 0.07), RMS = (0.45, 0.07) ADU\n",
      "freq_i = 3600.000000 MHz, phi_i = (121.81, 184.14) deg, mag = (62.54, 0.23), RMS = (0.45, 0.07) ADU\n",
      "freq_i = 3650.000002 MHz, phi_i = (310.76, 254.91) deg, mag = (61.36, 0.16), RMS = (0.44, 0.07) ADU\n",
      "freq_i = 3699.999998 MHz, phi_i = (139.82, 275.27) deg, mag = (60.28, 0.21), RMS = (0.45, 0.07) ADU\n",
      "freq_i = 3750.000000 MHz, phi_i = (328.84, 13.12) deg, mag = (59.46, 0.20), RMS = (0.48, 0.07) ADU\n",
      "freq_i = 3800.000002 MHz, phi_i = (157.44, 353.01) deg, mag = (58.68, 0.05), RMS = (0.42, 0.07) ADU\n",
      "freq_i = 3849.999998 MHz, phi_i = (346.28, 78.01) deg, mag = (57.77, 0.14), RMS = (0.48, 0.07) ADU\n",
      "freq_i = 3900.000000 MHz, phi_i = (175.04, 182.45) deg, mag = (57.01, 0.04), RMS = (0.46, 0.10) ADU\n",
      "freq_i = 3950.000002 MHz, phi_i = (3.78, 112.75) deg, mag = (55.81, 0.08), RMS = (0.52, 0.12) ADU\n",
      "freq_i = 3999.999998 MHz, phi_i = (192.11, 244.13) deg, mag = (54.42, 0.08), RMS = (0.47, 0.08) ADU\n",
      "freq_i = 4050.000000 MHz, phi_i = (20.73, 124.16) deg, mag = (53.22, 0.05), RMS = (0.44, 0.07) ADU\n",
      "freq_i = 4100.000002 MHz, phi_i = (208.90, 285.21) deg, mag = (51.53, 0.08), RMS = (0.43, 0.07) ADU\n",
      "freq_i = 4149.999998 MHz, phi_i = (35.89, 127.48) deg, mag = (49.72, 0.04), RMS = (0.47, 0.07) ADU\n",
      "freq_i = 4200.000000 MHz, phi_i = (222.28, 314.25) deg, mag = (48.28, 0.07), RMS = (0.46, 0.07) ADU\n",
      "freq_i = 4250.000002 MHz, phi_i = (50.70, 143.57) deg, mag = (47.03, 0.05), RMS = (0.45, 0.07) ADU\n",
      "freq_i = 4299.999998 MHz, phi_i = (239.92, 343.63) deg, mag = (45.60, 0.07), RMS = (0.45, 0.07) ADU\n",
      "freq_i = 4350.000000 MHz, phi_i = (69.39, 152.39) deg, mag = (44.26, 0.05), RMS = (0.46, 0.07) ADU\n",
      "freq_i = 4400.000002 MHz, phi_i = (259.06, 4.06) deg, mag = (43.08, 0.05), RMS = (0.44, 0.07) ADU\n",
      "freq_i = 4449.999998 MHz, phi_i = (88.54, 177.30) deg, mag = (41.66, 0.05), RMS = (0.42, 0.07) ADU\n",
      "freq_i = 4500.000000 MHz, phi_i = (277.91, 4.30) deg, mag = (40.41, 0.04), RMS = (0.41, 0.07) ADU\n",
      "freq_i = 4550.000002 MHz, phi_i = (106.45, 195.23) deg, mag = (39.36, 0.06), RMS = (0.40, 0.07) ADU\n",
      "freq_i = 4599.999998 MHz, phi_i = (295.12, 16.81) deg, mag = (38.35, 0.05), RMS = (0.39, 0.07) ADU\n",
      "freq_i = 4650.000000 MHz, phi_i = (123.18, 213.31) deg, mag = (37.50, 0.06), RMS = (0.41, 0.07) ADU\n",
      "freq_i = 4700.000002 MHz, phi_i = (310.86, 40.55) deg, mag = (36.88, 0.07), RMS = (0.40, 0.07) ADU\n",
      "freq_i = 4749.999998 MHz, phi_i = (138.31, 232.36) deg, mag = (36.41, 0.07), RMS = (0.42, 0.07) ADU\n",
      "freq_i = 4800.000000 MHz, phi_i = (325.72, 65.19) deg, mag = (36.11, 0.08), RMS = (0.40, 0.07) ADU\n",
      "freq_i = 4850.000002 MHz, phi_i = (153.61, 250.07) deg, mag = (35.76, 0.07), RMS = (0.41, 0.07) ADU\n",
      "freq_i = 4899.999998 MHz, phi_i = (341.73, 87.78) deg, mag = (35.60, 0.08), RMS = (0.43, 0.07) ADU\n",
      "freq_i = 4950.000000 MHz, phi_i = (170.59, 272.09) deg, mag = (35.25, 0.08), RMS = (0.38, 0.07) ADU\n",
      "freq_i = 5000.000002 MHz, phi_i = (359.01, 114.36) deg, mag = (34.95, 0.08), RMS = (0.42, 0.07) ADU\n",
      "freq_i = 5049.999998 MHz, phi_i = (187.61, 292.12) deg, mag = (34.53, 0.09), RMS = (0.40, 0.07) ADU\n",
      "freq_i = 5100.000000 MHz, phi_i = (16.11, 137.65) deg, mag = (34.00, 0.07), RMS = (0.42, 0.07) ADU\n",
      "freq_i = 5150.000002 MHz, phi_i = (204.92, 321.88) deg, mag = (33.35, 0.09), RMS = (0.42, 0.07) ADU\n",
      "freq_i = 5199.999998 MHz, phi_i = (35.06, 161.73) deg, mag = (32.50, 0.07), RMS = (0.39, 0.07) ADU\n",
      "freq_i = 5250.000000 MHz, phi_i = (225.37, 350.02) deg, mag = (31.70, 0.09), RMS = (0.40, 0.07) ADU\n",
      "freq_i = 5300.000002 MHz, phi_i = (55.67, 178.27) deg, mag = (30.84, 0.08), RMS = (0.44, 0.07) ADU\n",
      "freq_i = 5349.999998 MHz, phi_i = (246.05, 19.93) deg, mag = (29.82, 0.09), RMS = (0.42, 0.07) ADU\n",
      "freq_i = 5400.000000 MHz, phi_i = (76.13, 193.45) deg, mag = (28.93, 0.09), RMS = (0.37, 0.07) ADU\n",
      "freq_i = 5450.000002 MHz, phi_i = (265.39, 36.08) deg, mag = (28.10, 0.09), RMS = (0.40, 0.07) ADU\n",
      "freq_i = 5499.999998 MHz, phi_i = (94.85, 224.98) deg, mag = (27.10, 0.10), RMS = (0.37, 0.07) ADU\n",
      "freq_i = 5550.000000 MHz, phi_i = (283.37, 56.32) deg, mag = (26.35, 0.09), RMS = (0.37, 0.07) ADU\n",
      "freq_i = 5600.000002 MHz, phi_i = (111.46, 257.18) deg, mag = (25.28, 0.11), RMS = (0.36, 0.07) ADU\n",
      "freq_i = 5649.999998 MHz, phi_i = (299.66, 82.82) deg, mag = (24.52, 0.10), RMS = (0.34, 0.07) ADU\n",
      "freq_i = 5700.000000 MHz, phi_i = (126.97, 282.49) deg, mag = (23.69, 0.11), RMS = (0.35, 0.07) ADU\n",
      "freq_i = 5750.000002 MHz, phi_i = (314.59, 109.67) deg, mag = (22.83, 0.10), RMS = (0.35, 0.07) ADU\n",
      "freq_i = 5799.999998 MHz, phi_i = (142.67, 315.78) deg, mag = (22.00, 0.09), RMS = (0.31, 0.08) ADU\n",
      "freq_i = 5850.000000 MHz, phi_i = (330.44, 137.82) deg, mag = (21.23, 0.10), RMS = (0.31, 0.07) ADU\n",
      "freq_i = 5900.000002 MHz, phi_i = (159.02, 338.10) deg, mag = (20.66, 0.08), RMS = (0.62, 0.13) ADU\n",
      "freq_i = 5949.999998 MHz, phi_i = (347.33, 162.51) deg, mag = (19.89, 0.10), RMS = (0.33, 0.07) ADU\n",
      "freq_i = 6000.000000 MHz, phi_i = (177.04, 356.45) deg, mag = (19.30, 0.07), RMS = (0.29, 0.07) ADU\n",
      "freq_i = 6050.000002 MHz, phi_i = (9.96, 192.79) deg, mag = (18.97, 0.09), RMS = (0.32, 0.07) ADU\n",
      "freq_i = 6099.999998 MHz, phi_i = (207.43, 4.62) deg, mag = (19.20, 0.09), RMS = (0.35, 0.07) ADU\n",
      "freq_i = 6150.000000 MHz, phi_i = (46.74, 217.11) deg, mag = (20.48, 0.08), RMS = (0.31, 0.07) ADU\n",
      "freq_i = 6200.000002 MHz, phi_i = (237.88, 38.78) deg, mag = (20.48, 0.09), RMS = (0.30, 0.07) ADU\n",
      "freq_i = 6249.999998 MHz, phi_i = (68.36, 230.48) deg, mag = (20.18, 0.08), RMS = (0.27, 0.07) ADU\n",
      "freq_i = 6300.000000 MHz, phi_i = (258.79, 60.27) deg, mag = (19.78, 0.09), RMS = (0.29, 0.07) ADU\n",
      "freq_i = 6350.000002 MHz, phi_i = (89.58, 255.23) deg, mag = (19.21, 0.08), RMS = (0.28, 0.07) ADU\n",
      "freq_i = 6399.999998 MHz, phi_i = (279.76, 80.65) deg, mag = (18.56, 0.09), RMS = (0.28, 0.07) ADU\n",
      "freq_i = 6450.000000 MHz, phi_i = (109.90, 271.70) deg, mag = (17.89, 0.09), RMS = (0.27, 0.07) ADU\n",
      "freq_i = 6500.000002 MHz, phi_i = (299.89, 100.66) deg, mag = (17.18, 0.11), RMS = (0.27, 0.07) ADU\n",
      "freq_i = 6549.999998 MHz, phi_i = (129.79, 298.38) deg, mag = (16.43, 0.11), RMS = (0.27, 0.07) ADU\n",
      "freq_i = 6600.000000 MHz, phi_i = (319.70, 131.79) deg, mag = (15.72, 0.12), RMS = (0.25, 0.07) ADU\n",
      "freq_i = 6650.000002 MHz, phi_i = (149.44, 318.83) deg, mag = (15.02, 0.12), RMS = (0.23, 0.07) ADU\n",
      "freq_i = 6699.999998 MHz, phi_i = (339.65, 164.01) deg, mag = (14.45, 0.11), RMS = (0.23, 0.07) ADU\n",
      "freq_i = 6750.000000 MHz, phi_i = (169.45, 4.95) deg, mag = (13.84, 0.13), RMS = (0.22, 0.07) ADU\n",
      "freq_i = 6800.000002 MHz, phi_i = (359.84, 171.12) deg, mag = (13.42, 0.12), RMS = (0.24, 0.07) ADU\n",
      "freq_i = 6849.999998 MHz, phi_i = (190.07, 38.23) deg, mag = (13.01, 0.08), RMS = (0.28, 0.07) ADU\n",
      "freq_i = 6900.000000 MHz, phi_i = (20.72, 208.26) deg, mag = (12.67, 0.15), RMS = (0.27, 0.07) ADU\n",
      "freq_i = 6950.000002 MHz, phi_i = (211.40, 46.77) deg, mag = (12.40, 0.08), RMS = (0.23, 0.07) ADU\n",
      "freq_i = 6999.999998 MHz, phi_i = (42.32, 235.20) deg, mag = (12.11, 0.14), RMS = (0.22, 0.07) ADU\n",
      "freq_i = 7050.000000 MHz, phi_i = (233.89, 49.25) deg, mag = (11.88, 0.07), RMS = (0.22, 0.07) ADU\n",
      "freq_i = 7100.000002 MHz, phi_i = (65.52, 273.27) deg, mag = (11.64, 0.17), RMS = (0.21, 0.07) ADU\n",
      "freq_i = 7149.999998 MHz, phi_i = (257.30, 38.11) deg, mag = (11.32, 0.11), RMS = (0.21, 0.07) ADU\n",
      "freq_i = 7200.000000 MHz, phi_i = (89.09, 333.89) deg, mag = (11.07, 0.15), RMS = (0.20, 0.07) ADU\n",
      "freq_i = 7250.000002 MHz, phi_i = (280.78, 95.09) deg, mag = (10.77, 0.23), RMS = (0.19, 0.07) ADU\n",
      "freq_i = 7299.999998 MHz, phi_i = (112.95, 70.93) deg, mag = (10.43, 0.02), RMS = (0.19, 0.07) ADU\n",
      "freq_i = 7350.000000 MHz, phi_i = (305.07, 156.08) deg, mag = (10.13, 0.22), RMS = (0.18, 0.07) ADU\n",
      "freq_i = 7400.000002 MHz, phi_i = (137.53, 292.37) deg, mag = (9.71, 0.10), RMS = (0.17, 0.07) ADU\n",
      "freq_i = 7449.999998 MHz, phi_i = (329.61, 203.36) deg, mag = (9.24, 0.17), RMS = (0.16, 0.07) ADU\n",
      "freq_i = 7500.000000 MHz, phi_i = (161.96, 340.88) deg, mag = (8.80, 0.15), RMS = (0.15, 0.07) ADU\n",
      "freq_i = 7550.000002 MHz, phi_i = (354.41, 234.14) deg, mag = (8.35, 0.10), RMS = (0.15, 0.07) ADU\n",
      "freq_i = 7599.999998 MHz, phi_i = (186.98, 32.01) deg, mag = (8.00, 0.15), RMS = (0.14, 0.07) ADU\n",
      "freq_i = 7650.000000 MHz, phi_i = (19.47, 236.67) deg, mag = (7.56, 0.04), RMS = (0.14, 0.07) ADU\n",
      "freq_i = 7700.000002 MHz, phi_i = (211.49, 76.91) deg, mag = (7.19, 0.10), RMS = (0.14, 0.07) ADU\n",
      "freq_i = 7749.999998 MHz, phi_i = (43.61, 240.16) deg, mag = (6.89, 0.09), RMS = (0.13, 0.07) ADU\n",
      "freq_i = 7800.000000 MHz, phi_i = (235.65, 98.81) deg, mag = (6.50, 0.11), RMS = (0.13, 0.08) ADU\n",
      "freq_i = 7850.000002 MHz, phi_i = (68.03, 265.30) deg, mag = (6.09, 0.07), RMS = (0.14, 0.12) ADU\n",
      "freq_i = 7899.999998 MHz, phi_i = (256.72, 103.78) deg, mag = (5.72, 0.12), RMS = (0.13, 0.10) ADU\n",
      "freq_i = 7950.000000 MHz, phi_i = (87.11, 293.56) deg, mag = (5.51, 0.06), RMS = (0.12, 0.07) ADU\n"
     ]
    }
   ],
   "source": [
    "config['reps'] = 1000\n",
    "\n",
    "config['soft_avgs'] = 1\n",
    "res=[]\n",
    "for f0 in f_v:\n",
    "    config['pulse_freq'] = f0\n",
    "\n",
    "    prog =LAB_v0.SingleFreqProgram(soccfg, config)\n",
    "    avg_data = prog.acquire(soc, load_pulses=True, progress=False, debug=False)\n",
    "    data = [[prog.di_buf[i]/config['readout_length'], prog.dq_buf[i]/config['readout_length']] for i in range(2)]\n",
    "    res.append([calculate_phase(d) for d in data])\n",
    "    print_results(res[-1], f0)\n",
    "\n",
    "ff_v = np.array([[a[0] for a in r] for r in res]).T\n",
    "phase_calibrated = phase_func(fit.x, ff_v[ch], f_v)\n",
    "\n",
    "soc.reset_gens()\n"
   ]
  },
  {
   "cell_type": "code",
   "execution_count": 212,
   "metadata": {},
   "outputs": [
    {
     "data": {
      "text/plain": [
       "[[[6.798920503790612, 77.80879980768634, 0.40949104067244246],\n",
       "  [83.50382734588061, 0.05472134301166229, 0.06663528809122085]],\n",
       " [[197.08925203811162, 77.407376389885, 0.47214941033003527],\n",
       "  [147.24739885927931, 0.03685311221593097, 0.06657735440823705]],\n",
       " [[28.16115144690957, 76.62255609763078, 0.4601114456596359],\n",
       "  [151.0403758762618, 0.06638466317606802, 0.0693217389784763]],\n",
       " [[217.6550705664007, 75.33925967919197, 0.462133703898558],\n",
       "  [224.06931241119338, 0.0746598194010674, 0.06885008618004773]],\n",
       " [[46.93991038952163, 73.92784334757346, 0.4698006509563391],\n",
       "  [239.4833842507892, 0.04021558486457706, 0.07116107597556406]],\n",
       " [[236.26118089914422, 72.48633333464213, 0.4529339125634114],\n",
       "  [278.5762082124357, 0.10324241647695002, 0.06802437386701916]],\n",
       " [[65.74644259931972, 70.94111192665534, 0.47703851391685353],\n",
       "  [4.51975239862594, 0.046939972699182514, 0.06887099507775388]],\n",
       " [[255.1355875677138, 69.35517509383827, 0.4885378388978688],\n",
       "  [335.2709993460591, 0.10476974672108358, 0.06542557735320338]],\n",
       " [[84.4973940345273, 67.76318171789814, 0.439639145339675],\n",
       "  [63.74212639229461, 0.10460386887682502, 0.06856552060620556]],\n",
       " [[273.98884874919685, 66.28150079100884, 0.4512848385377023],\n",
       "  [39.65860356330688, 0.09304278618463659, 0.0686656605516906]],\n",
       " [[103.31947630283037, 65.05776269163246, 0.4589217539352433],\n",
       "  [121.99498639691961, 0.15655331547111992, 0.06871818110951425]],\n",
       " [[292.60955878427075, 63.70781672295848, 0.45325423983896723],\n",
       "  [116.94786806075984, 0.0714860055675235, 0.06957149565734518]],\n",
       " [[121.81447064620096, 62.54278550593513, 0.45054901241707324],\n",
       "  [184.13529334443749, 0.23025345281233026, 0.06778849067504011]],\n",
       " [[310.75595366711997, 61.35804328683185, 0.4422399611862321],\n",
       "  [254.91458003315347, 0.15759696637943257, 0.06875732824943098]],\n",
       " [[139.82301577971077, 60.28311972880611, 0.44513028702616947],\n",
       "  [275.2653142857303, 0.21192623652582518, 0.0696052747426515]],\n",
       " [[328.8400442430528, 59.45834521402307, 0.484433368029082],\n",
       "  [13.120038026411919, 0.19763698927073345, 0.06876525628542367]],\n",
       " [[157.4409794329806, 58.67766931633066, 0.41528163015837816],\n",
       "  [353.0135232585922, 0.051399648131091324, 0.07150818255276804]],\n",
       " [[346.27515098043625, 57.772481374208404, 0.4766225904665032],\n",
       "  [78.01413059032245, 0.14373253494598917, 0.07301365898241233]],\n",
       " [[175.0397087300763, 57.011429673798894, 0.46029553167829035],\n",
       "  [182.45322700184545, 0.04268311920420063, 0.09714832131848702]],\n",
       " [[3.7764957334685505, 55.807576152112176, 0.5155038255920125],\n",
       "  [112.75222746291189, 0.07901551853908192, 0.11783566450782208]],\n",
       " [[192.11051978005298, 54.421297489576865, 0.47203353056218367],\n",
       "  [244.12660470478096, 0.07679932549834015, 0.07847700684276893]],\n",
       " [[20.729958142551368, 53.21980716055578, 0.4402624879035233],\n",
       "  [124.16201498454512, 0.051079636304500055, 0.07188874567691385]],\n",
       " [[208.8972550829847, 51.53091480510941, 0.43237665472941533],\n",
       "  [285.2064351577909, 0.08433170246710309, 0.07027825381296834]],\n",
       " [[35.887227558027234, 49.71900946689337, 0.4730455210315388],\n",
       "  [127.4793587666747, 0.04290722740984321, 0.0688465673508854]],\n",
       " [[222.28207450031317, 48.278364165105565, 0.4613506437093157],\n",
       "  [314.2491131907266, 0.07397467164509756, 0.06823984873224735]],\n",
       " [[50.702926718149115, 47.03384093231359, 0.4496297085636135],\n",
       "  [143.57348324456132, 0.04525495501047371, 0.06776831152537298]],\n",
       " [[239.919600658633, 45.59973209345205, 0.4543420158867105],\n",
       "  [343.6282558285049, 0.0657718446297502, 0.06766209022783734]],\n",
       " [[69.38628508933277, 44.261698477051375, 0.4608457253658756],\n",
       "  [152.39055586805864, 0.054052059248468974, 0.07018457017749699]],\n",
       " [[259.05774953356735, 43.084309621933144, 0.43614322578712605],\n",
       "  [4.058925034438175, 0.04725753216155071, 0.06933747654767947]],\n",
       " [[88.54187059976886, 41.660608220220375, 0.42280124917861817],\n",
       "  [177.3017305266992, 0.05491087984179456, 0.06744332639335045]],\n",
       " [[277.91236167279925, 40.40673273197307, 0.40761893834315405],\n",
       "  [4.300519038248581, 0.043860491219319474, 0.06933177705785422]],\n",
       " [[106.45062612863501, 39.36419995891353, 0.4014008105024204],\n",
       "  [195.2289261822318, 0.05525431016671912, 0.06863995343821265]],\n",
       " [[295.124973600716, 38.346986511201855, 0.3897168109063298],\n",
       "  [16.810642173155202, 0.05389516706533156, 0.06849157588346175]],\n",
       " [[123.17552501217119, 37.50221121117509, 0.40626707522761435],\n",
       "  [213.30948867180416, 0.06108770672565799, 0.06804588956726189]],\n",
       " [[310.8616683135228, 36.87595489018319, 0.40291481255347267],\n",
       "  [40.55421166594027, 0.07365182004540011, 0.06953594325239286]],\n",
       " [[138.31199994640133, 36.41103586376509, 0.42318673610121577],\n",
       "  [232.35606836160602, 0.06570419558140865, 0.06656895434810434]],\n",
       " [[325.7229841581118, 36.105947148281075, 0.3956123677717875],\n",
       "  [65.19032454165784, 0.07531838756240072, 0.06833682385800499]],\n",
       " [[153.6089721997074, 35.75837345477909, 0.40503509792362435],\n",
       "  [250.07047101372007, 0.07281787479733255, 0.06840722995415031]],\n",
       " [[341.7344163801097, 35.604046511437836, 0.4263617271414028],\n",
       "  [87.77814631413048, 0.08439744984298993, 0.06728694122933514]],\n",
       " [[170.5917068713527, 35.252020158544106, 0.3830269306458751],\n",
       "  [272.0906508118196, 0.07905562260206418, 0.06966473666784366]],\n",
       " [[359.01456168146603, 34.94683569354406, 0.42485718945899925],\n",
       "  [114.36233088462586, 0.0806340545923371, 0.06796263120274258]],\n",
       " [[187.60830729054683, 34.52582615005553, 0.4037033789083267],\n",
       "  [292.1173158118611, 0.09150759687042383, 0.0662222977176117]],\n",
       " [[16.11279439503869, 34.00216717479822, 0.4234326133813974],\n",
       "  [137.64782252836812, 0.06913905632130077, 0.06731469298006194]],\n",
       " [[204.91731564294872, 33.346321679730515, 0.4166574335530329],\n",
       "  [321.8816300709266, 0.08894711529892356, 0.06746495890460469]],\n",
       " [[35.05902501556909, 32.50470524256809, 0.3904461880541287],\n",
       "  [161.7271559012671, 0.07231557119320846, 0.06858141995467869]],\n",
       " [[225.37231148503832, 31.70155181421014, 0.39714826318391483],\n",
       "  [350.01806651860966, 0.09098427825729015, 0.06878859723820512]],\n",
       " [[55.672051572194334, 30.84031972577499, 0.441510314685852],\n",
       "  [178.27119806195276, 0.07995039174388079, 0.06770711085255374]],\n",
       " [[246.04757631138727, 29.822463624016127, 0.42252932588756487],\n",
       "  [19.928169491518304, 0.08660909495543757, 0.06988949614212425]],\n",
       " [[76.1328358319056, 28.93083011149775, 0.37348896189178066],\n",
       "  [193.4450272089987, 0.08609866713254045, 0.07088487510040488]],\n",
       " [[265.3875069924678, 28.098358246157176, 0.40247352659647073],\n",
       "  [36.07978369259723, 0.08575995420940943, 0.06652751501446601]],\n",
       " [[94.85073528768629, 27.096174416076526, 0.36686473741693953],\n",
       "  [224.9783949442831, 0.097511446271707, 0.06842249517519804]],\n",
       " [[283.37353820911875, 26.349626941481073, 0.3695026302680402],\n",
       "  [56.32073032161031, 0.0927159206447307, 0.06757634984963305]],\n",
       " [[111.46315656499957, 25.28304397974279, 0.36401230527552225],\n",
       "  [257.1782244940736, 0.11066645892048775, 0.06829861543252543]],\n",
       " [[299.6593474486209, 24.524010331864407, 0.3385723742540138],\n",
       "  [82.81802495615443, 0.09856735141516182, 0.06870706102723358]],\n",
       " [[126.969230014287, 23.69473860886526, 0.3481997638568987],\n",
       "  [282.48657270589695, 0.10520750434260857, 0.0689982683116033]],\n",
       " [[314.59174197314985, 22.833001031987187, 0.34649724857782055],\n",
       "  [109.67304177226254, 0.10067658838578113, 0.06832207220949904]],\n",
       " [[142.66897902984186, 22.003263596487, 0.30734115492397046],\n",
       "  [315.78214931645397, 0.09334396397196769, 0.08448184651154353]],\n",
       " [[330.43875938470757, 21.226345318297096, 0.3105425017723017],\n",
       "  [137.82157278261377, 0.09637174457796228, 0.06891976383447639]],\n",
       " [[159.0157168950808, 20.6589816023752, 0.6201442410625128],\n",
       "  [338.101794167702, 0.08001957792940426, 0.13193194892822588]],\n",
       " [[347.3305561322894, 19.888785094232176, 0.33194470239484164],\n",
       "  [162.51372393967688, 0.09828694274419161, 0.06793507846466361]],\n",
       " [[177.04117625966637, 19.30258549494251, 0.28890474803124994],\n",
       "  [356.44679856142625, 0.06581652027416825, 0.07057225133861042]],\n",
       " [[9.959557780769387, 18.97328087770328, 0.32186327653057906],\n",
       "  [192.78624041885516, 0.09369028185462994, 0.06800406668722099]],\n",
       " [[207.4256718392005, 19.199032551939307, 0.35185445652286396],\n",
       "  [4.6225144572105705, 0.08594053989241632, 0.07066702627817306]],\n",
       " [[46.73710979162303, 20.47501234912275, 0.3112625712658045],\n",
       "  [217.10985192738266, 0.08333373080571875, 0.06791177593024644]],\n",
       " [[237.87966638987547, 20.47510399298194, 0.29615149092145393],\n",
       "  [38.778084839447786, 0.09373537925991444, 0.06956021617994008]],\n",
       " [[68.36449382224589, 20.179643604878287, 0.2694857604679698],\n",
       "  [230.47541076275218, 0.07900418622452864, 0.06745685701987604]],\n",
       " [[258.79155499713517, 19.781793728352643, 0.29472500556959874],\n",
       "  [60.268362984079886, 0.09068266512404673, 0.06794436139960403]],\n",
       " [[89.58280963462573, 19.208158186739322, 0.28118808687247043],\n",
       "  [255.2309304916738, 0.08197744058580995, 0.0694985916044347]],\n",
       " [[279.7553091065516, 18.560473718707183, 0.28072164359022983],\n",
       "  [80.64686413542069, 0.09342910052547869, 0.06602560242057622]],\n",
       " [[109.89685726279436, 17.885837978893413, 0.2719174631648361],\n",
       "  [271.70426968248137, 0.09142344146880493, 0.0704338437826589]],\n",
       " [[299.8889845279153, 17.17675734503579, 0.2685943163192401],\n",
       "  [100.66412365396684, 0.11247151110392356, 0.06764944338278032]],\n",
       " [[129.78755583115128, 16.425581596608932, 0.268657058611904],\n",
       "  [298.37544104890344, 0.11384182669388261, 0.0677041763482874]],\n",
       " [[319.7005045786012, 15.71924124420037, 0.25130930072323227],\n",
       "  [131.79316686789457, 0.1192614121038318, 0.0675041227111352]],\n",
       " [[149.43765001871947, 15.022031598146105, 0.22865690520953005],\n",
       "  [318.8341690670259, 0.11507189993217286, 0.0689317187222254]],\n",
       " [[339.65127296143277, 14.450649828149459, 0.23496487866062024],\n",
       "  [164.0056981395942, 0.10508389163425573, 0.06758743018490938]],\n",
       " [[169.4454045112434, 13.83721338340296, 0.22313082748468444],\n",
       "  [4.95432156866076, 0.1337517144002274, 0.06894209088068043]],\n",
       " [[359.83643103571063, 13.419792685483818, 0.2433088770164377],\n",
       "  [171.1199077067281, 0.12170986790314087, 0.0692087209461351]],\n",
       " [[190.06527187691623, 13.013425831591617, 0.28099185693539236],\n",
       "  [38.23487399603431, 0.08322041480309984, 0.06850562429465189]],\n",
       " [[20.716184844475265, 12.673957571225335, 0.26854049374349487],\n",
       "  [208.2635761654385, 0.15468133085799332, 0.06995717178388502]],\n",
       " [[211.40203432384138, 12.398281852238881, 0.23394879876588381],\n",
       "  [46.77229901833215, 0.08155357542744525, 0.06888841219682741]],\n",
       " [[42.32376695137634, 12.106687639067921, 0.22444111931640331],\n",
       "  [235.2007858681032, 0.14434145317614064, 0.06923564035235032]],\n",
       " [[233.8893303362734, 11.881418312340495, 0.2208131544541674],\n",
       "  [49.2484933495557, 0.07136711192839458, 0.06832607361029902]],\n",
       " [[65.5248396133772, 11.64017154018243, 0.2126253844840733],\n",
       "  [273.26561098810845, 0.17124607163085523, 0.07003850334637371]],\n",
       " [[257.30494153712357, 11.31995629812845, 0.20518280742303924],\n",
       "  [38.107858198516, 0.1068373370175427, 0.06658687872997202]],\n",
       " [[89.08561563237481, 11.066752267042846, 0.2002887712828655],\n",
       "  [333.89358255914584, 0.15302708410278226, 0.06774728430719566]],\n",
       " [[280.77714979596817, 10.773494955575096, 0.19494508508295355],\n",
       "  [95.08752741444329, 0.23204315885196877, 0.06762714270172887]],\n",
       " [[112.94739756887884, 10.430375655504314, 0.18974558245977693],\n",
       "  [70.92949534213, 0.01784646323505024, 0.0672539943051712]],\n",
       " [[305.0705750795805, 10.131284215293736, 0.18220521655539942],\n",
       "  [156.08170335988711, 0.22181441683758973, 0.07001867952910852]],\n",
       " [[137.5327210835918, 9.71080508775812, 0.1687238233652853],\n",
       "  [292.3711813778136, 0.10233173312321062, 0.06788876487313641]],\n",
       " [[329.6054730144441, 9.241168721935823, 0.15995316100346377],\n",
       "  [203.36057785156072, 0.17170288661813465, 0.06860743200995065]],\n",
       " [[161.95623792551442, 8.799657259966947, 0.14968936539046454],\n",
       "  [340.878532364572, 0.14798276504039248, 0.06837999891050013]],\n",
       " [[354.4079734611265, 8.35323529495608, 0.15386979918099586],\n",
       "  [234.14139225646204, 0.09826950677092056, 0.06829523437985992]],\n",
       " [[186.984481534703, 7.996339851762243, 0.14397440091557942],\n",
       "  [32.01254446331285, 0.14502223308858542, 0.06915491240685653]],\n",
       " [[19.471214399571068, 7.563461327950914, 0.1420392748186219],\n",
       "  [236.67256403112134, 0.04119230690310995, 0.06834215281947154]],\n",
       " [[211.4942651420113, 7.18524122252176, 0.13939050962673175],\n",
       "  [76.91124935830601, 0.1015984829857218, 0.07218014446508127]],\n",
       " [[43.60794008727936, 6.890740786145202, 0.13175681065888017],\n",
       "  [240.1585002781545, 0.0924573591067796, 0.07261371597019396]],\n",
       " [[235.6501059187122, 6.50319383102426, 0.12839299874993185],\n",
       "  [98.81435342110933, 0.11306934611998072, 0.07728153057490515]],\n",
       " [[68.03381749002642, 6.0911201079896635, 0.13501550297651008],\n",
       "  [265.30122293030456, 0.07291505762872302, 0.11894318547525116]],\n",
       " [[256.71616831839356, 5.718765714549689, 0.1271728866189645],\n",
       "  [103.77685342074665, 0.12305728874796486, 0.09516788158827535]],\n",
       " [[87.11156505005988, 5.512870832632486, 0.1172428876734107],\n",
       "  [293.55650698622713, 0.064110566274211, 0.07393511541885898]]]"
      ]
     },
     "execution_count": 212,
     "metadata": {},
     "output_type": "execute_result"
    }
   ],
   "source": [
    "res"
   ]
  },
  {
   "cell_type": "code",
   "execution_count": 208,
   "metadata": {},
   "outputs": [
    {
     "data": {
      "text/plain": [
       "[<matplotlib.lines.Line2D at 0x226f2bb2fa0>]"
      ]
     },
     "execution_count": 208,
     "metadata": {},
     "output_type": "execute_result"
    },
    {
     "data": {
      "image/png": "[encoded data removed]",
      "text/plain": [
       "<Figure size 432x288 with 2 Axes>"
      ]
     },
     "metadata": {
      "needs_background": "light"
     },
     "output_type": "display_data"
    }
   ],
   "source": [
    "fig, axs = plt.subplots(2,1)\n",
    "\n",
    "plot = axs[0]\n",
    "plot.set_title(r\"$\\phi$ vs $f$\")\n",
    "plot.set_ylabel(r\"$\\phi$ (degrees)\")\n",
    "plot.set_xlabel(r\"$f$ (MHz)\")\n",
    "plot.plot(f_v, ff_v[ch], marker='.', linestyle=\"None\",color=\"Red\")\n",
    "plot.plot(f_v, phase_model(fit.x, f_v))\n",
    "\n",
    "plot = axs[1]\n",
    "plot.set_ylabel(r\"residual (degrees)\")\n",
    "plot.set_xlabel(r\"$f$ (MHz)\")\n",
    "\n",
    "plot.plot(f_v, phase_func(fit.x, ff_v[ch], f_v), marker='.', linestyle=\"-\",color=\"Red\")\n",
    "#     plot.plot(f0_v, phase_func(x0, (fi_v[ch])), marker='.', linestyle=\"None\",color=\"Red\")\n"
   ]
  },
  {
   "cell_type": "code",
   "execution_count": 204,
   "metadata": {},
   "outputs": [
    {
     "data": {
      "text/plain": [
       "Text(0, 0.5, '$\\\\phi$ (degree)')"
      ]
     },
     "execution_count": 204,
     "metadata": {},
     "output_type": "execute_result"
    },
    {
     "data": {
      "image/png": "[encoded data removed]",
      "text/plain": [
       "<Figure size 432x288 with 1 Axes>"
      ]
     },
     "metadata": {
      "needs_background": "light"
     },
     "output_type": "display_data"
    }
   ],
   "source": [
    "plt.plot(f_v, phase_calibrated, marker='.', linestyle=\"None\",color=\"Red\")\n",
    "plt.xlabel('f(MHz)')\n",
    "plt.ylabel(r'$\\phi$ (degree)')"
   ]
  },
  {
   "cell_type": "markdown",
   "metadata": {},
   "source": [
    "### initial guess instead of `least_square` fit"
   ]
  },
  {
   "cell_type": "code",
   "execution_count": 207,
   "metadata": {},
   "outputs": [
    {
     "data": {
      "text/plain": [
       "[<matplotlib.lines.Line2D at 0x226f2b03fd0>]"
      ]
     },
     "execution_count": 207,
     "metadata": {},
     "output_type": "execute_result"
    },
    {
     "data": {
      "image/png": "[encoded data removed]",
      "text/plain": [
       "<Figure size 432x288 with 2 Axes>"
      ]
     },
     "metadata": {
      "needs_background": "light"
     },
     "output_type": "display_data"
    }
   ],
   "source": [
    "fig, axs = plt.subplots(2,1)\n",
    "\n",
    "plot = axs[0]\n",
    "plot.set_title(r\"$\\phi$ vs $f$\")\n",
    "plot.set_ylabel(r\"$\\phi$ (degrees)\")\n",
    "plot.set_xlabel(r\"$f$ (MHz)\")\n",
    "plot.plot(f_v, ff_v[ch], marker='.', linestyle=\"None\",color=\"Red\")\n",
    "plot.plot(f_v, phase_model(fit.x, f_v))\n",
    "\n",
    "plot = axs[1]\n",
    "plot.set_ylabel(r\"residual (degrees)\")\n",
    "plot.set_xlabel(r\"$f$ (MHz)\")\n",
    "\n",
    "plot.plot(f_v, phase_func([190, 42.53], ff_v[ch], f_v), marker='.', linestyle=\"-\",color=\"Red\")"
   ]
  },
  {
   "cell_type": "code",
   "execution_count": 104,
   "metadata": {},
   "outputs": [
    {
     "data": {
      "text/plain": [
       "array([195.59442516,  42.53010939])"
      ]
     },
     "execution_count": 104,
     "metadata": {},
     "output_type": "execute_result"
    }
   ],
   "source": [
    "fit.x"
   ]
  },
  {
   "cell_type": "code",
   "execution_count": 171,
   "metadata": {},
   "outputs": [
    {
     "data": {
      "text/plain": [
       "3.330088212805181"
      ]
     },
     "execution_count": 171,
     "metadata": {},
     "output_type": "execute_result"
    }
   ],
   "source": [
    "2*np.pi*0.53"
   ]
  },
  {
   "cell_type": "code",
   "execution_count": 198,
   "metadata": {},
   "outputs": [
    {
     "data": {
      "text/plain": [
       "array([351.43571664,  42.50519613])"
      ]
     },
     "execution_count": 198,
     "metadata": {},
     "output_type": "execute_result"
    }
   ],
   "source": [
    "x0"
   ]
  },
  {
   "cell_type": "code",
   "execution_count": null,
   "metadata": {},
   "outputs": [],
   "source": []
  }
 ],
 "metadata": {
  "kernelspec": {
   "display_name": "Python 3",
   "language": "python",
   "name": "python3"
  },
  "language_info": {
   "codemirror_mode": {
    "name": "ipython",
    "version": 3
   },
   "file_extension": ".py",
   "mimetype": "text/x-python",
   "name": "python",
   "nbconvert_exporter": "python",
   "pygments_lexer": "ipython3",
   "version": "3.8.5"
  }
 },
 "nbformat": 4,
 "nbformat_minor": 4
}
